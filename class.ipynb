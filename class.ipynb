{
 "cells": [
  {
   "cell_type": "markdown",
   "metadata": {},
   "source": [
    "# what new does below;\n",
    "#### new creates an empty Users object first\n",
    "#### then this used inside the class points to the empty object\n",
    "#### calls constructor() to of that class"
   ]
  },
  {
   "cell_type": "code",
   "execution_count": 3,
   "metadata": {},
   "outputs": [
    {
     "data": {
      "text/plain": [
       "undefined"
      ]
     },
     "execution_count": 3,
     "metadata": {},
     "output_type": "execute_result"
    }
   ],
   "source": [
    "class Users{\n",
    "    constructor(name, email){\n",
    "        this.name=name;\n",
    "        this.email = email;\n",
    "    }\n",
    "}\n",
    "\n",
    "var userOne = new Users('bishal', 'bisalgt@gmail.com');\n",
    "var userTwo = new Users('hemant', 'hemantacch@gmail.com');"
   ]
  },
  {
   "cell_type": "code",
   "execution_count": 4,
   "metadata": {},
   "outputs": [
    {
     "data": {
      "text/plain": [
       "Users { name: 'bishal', email: 'bisalgt@gmail.com' }"
      ]
     },
     "execution_count": 4,
     "metadata": {},
     "output_type": "execute_result"
    }
   ],
   "source": [
    "userOne"
   ]
  },
  {
   "cell_type": "code",
   "execution_count": 6,
   "metadata": {},
   "outputs": [
    {
     "data": {
      "text/plain": [
       "'object'"
      ]
     },
     "execution_count": 6,
     "metadata": {},
     "output_type": "execute_result"
    }
   ],
   "source": [
    "typeof userOne"
   ]
  },
  {
   "cell_type": "code",
   "execution_count": 7,
   "metadata": {},
   "outputs": [
    {
     "data": {
      "text/plain": [
       "Users { name: 'hemant', email: 'hemantacch@gmail.com' }"
      ]
     },
     "execution_count": 7,
     "metadata": {},
     "output_type": "execute_result"
    }
   ],
   "source": [
    "userTwo\n"
   ]
  },
  {
   "cell_type": "code",
   "execution_count": null,
   "metadata": {},
   "outputs": [],
   "source": []
  },
  {
   "cell_type": "code",
   "execution_count": 8,
   "metadata": {},
   "outputs": [
    {
     "data": {
      "text/plain": [
       "undefined"
      ]
     },
     "execution_count": 8,
     "metadata": {},
     "output_type": "execute_result"
    }
   ],
   "source": [
    "class Userr{\n",
    "    constructor(name, email){\n",
    "        this.name=name;\n",
    "        this.email = email;\n",
    "    }\n",
    "    login(){\n",
    "        console.log(this.email, 'just logged in');\n",
    "    }\n",
    "    logOut(){\n",
    "        console.log(this.email, 'just logged out.');\n",
    "    }\n",
    "}\n",
    "\n",
    "var userOne = new Userr('bishal', 'bisalgt@gmail.com');\n",
    "var userTwo = new Userr('hemant', 'hemantacch@gmail.com');\n"
   ]
  },
  {
   "cell_type": "code",
   "execution_count": 13,
   "metadata": {},
   "outputs": [
    {
     "data": {
      "text/plain": [
       "undefined"
      ]
     },
     "execution_count": 13,
     "metadata": {},
     "output_type": "execute_result"
    }
   ],
   "source": [
    "function Student(name, email, id){\n",
    "    new Userr(name, email);\n",
    "    this.id = id;\n",
    "}"
   ]
  },
  {
   "cell_type": "code",
   "execution_count": null,
   "metadata": {},
   "outputs": [],
   "source": []
  },
  {
   "cell_type": "code",
   "execution_count": 19,
   "metadata": {},
   "outputs": [
    {
     "data": {
      "text/plain": [
       "undefined"
      ]
     },
     "execution_count": 19,
     "metadata": {},
     "output_type": "execute_result"
    }
   ],
   "source": [
    "var stOne = Student('bishal', 'bisalgt@gmail.com', 1)"
   ]
  },
  {
   "cell_type": "code",
   "execution_count": 20,
   "metadata": {
    "collapsed": true
   },
   "outputs": [
    {
     "ename": "TypeError",
     "evalue": "Cannot read property 'name' of undefined",
     "output_type": "error",
     "traceback": [
      "evalmachine.<anonymous>:1",
      "stOne.name",
      "      ^",
      "",
      "TypeError: Cannot read property 'name' of undefined",
      "    at evalmachine.<anonymous>:1:7",
      "    at Script.runInThisContext (vm.js:96:20)",
      "    at Object.runInThisContext (vm.js:303:38)",
      "    at run ([eval]:1054:15)",
      "    at onRunRequest ([eval]:888:18)",
      "    at onMessage ([eval]:848:13)",
      "    at process.emit (events.js:182:13)",
      "    at emit (internal/child_process.js:812:12)",
      "    at process._tickCallback (internal/process/next_tick.js:63:19)"
     ]
    }
   ],
   "source": [
    "stOne.name"
   ]
  },
  {
   "cell_type": "code",
   "execution_count": 24,
   "metadata": {
    "collapsed": true
   },
   "outputs": [
    {
     "ename": "TypeError",
     "evalue": "Cannot read property 'id' of undefined",
     "output_type": "error",
     "traceback": [
      "evalmachine.<anonymous>:1",
      "stOne.id",
      "      ^",
      "",
      "TypeError: Cannot read property 'id' of undefined",
      "    at evalmachine.<anonymous>:1:7",
      "    at Script.runInThisContext (vm.js:96:20)",
      "    at Object.runInThisContext (vm.js:303:38)",
      "    at run ([eval]:1054:15)",
      "    at onRunRequest ([eval]:888:18)",
      "    at onMessage ([eval]:848:13)",
      "    at process.emit (events.js:182:13)",
      "    at emit (internal/child_process.js:812:12)",
      "    at process._tickCallback (internal/process/next_tick.js:63:19)"
     ]
    }
   ],
   "source": [
    "stOne.id"
   ]
  },
  {
   "cell_type": "markdown",
   "metadata": {},
   "source": [
    "## To create a new object from the constructor function we must use new keyword"
   ]
  },
  {
   "cell_type": "code",
   "execution_count": 22,
   "metadata": {},
   "outputs": [
    {
     "data": {
      "text/plain": [
       "'bishal'"
      ]
     },
     "execution_count": 22,
     "metadata": {},
     "output_type": "execute_result"
    }
   ],
   "source": [
    "function Person(name, email){\n",
    "    this.name = name;\n",
    "    this.email = email;\n",
    "}\n",
    "\n",
    "function Student(name, email, id){\n",
    "    Person.call(this, name, email)\n",
    "    this.id = id;\n",
    "}\n",
    "\n",
    "var stOne = new Student('bishal', 'bisalgt@mail.com', 1);\n",
    "stOne.name"
   ]
  },
  {
   "cell_type": "code",
   "execution_count": null,
   "metadata": {},
   "outputs": [],
   "source": []
  },
  {
   "cell_type": "code",
   "execution_count": 23,
   "metadata": {},
   "outputs": [
    {
     "data": {
      "text/plain": [
       "Student { name: 'bishal', email: 'bisalgt@mail.com', id: 1 }"
      ]
     },
     "execution_count": 23,
     "metadata": {},
     "output_type": "execute_result"
    }
   ],
   "source": [
    "stOne"
   ]
  },
  {
   "cell_type": "code",
   "execution_count": 4,
   "metadata": {},
   "outputs": [
    {
     "data": {
      "text/plain": [
       "1"
      ]
     },
     "execution_count": 4,
     "metadata": {},
     "output_type": "execute_result"
    }
   ],
   "source": [
    "stOne.id"
   ]
  },
  {
   "cell_type": "raw",
   "metadata": {},
   "source": [
    "function Persn(name, email){\n",
    "    this.name = name;\n",
    "    this.email = email;\n",
    "    greetings():{\n",
    "        console.log(this.name, ', Hello How are you!');\n",
    "    }\n",
    "}\n",
    "// var Obj = new Person('bishal', 'email.com');\n",
    "function Student(name, email, id){\n",
    "    Persn.call(this, name, email) //inheriting properties and methods of person\n",
    "    this.id = id;\n",
    "}\n",
    "\n",
    "var stOne = new Student('bishal', 'bisalgt@mail.com', 1);\n",
    "stOne.name"
   ]
  },
  {
   "cell_type": "code",
   "execution_count": 7,
   "metadata": {},
   "outputs": [
    {
     "data": {
      "text/plain": [
       "Student { id: 1 }"
      ]
     },
     "execution_count": 7,
     "metadata": {},
     "output_type": "execute_result"
    }
   ],
   "source": [
    "stOne"
   ]
  },
  {
   "cell_type": "code",
   "execution_count": 8,
   "metadata": {},
   "outputs": [
    {
     "data": {
      "text/plain": [
       "Person { name: 'bishal', email: 'bisalgt@mail.com' }"
      ]
     },
     "execution_count": 8,
     "metadata": {},
     "output_type": "execute_result"
    }
   ],
   "source": [
    "Obj"
   ]
  },
  {
   "cell_type": "code",
   "execution_count": 25,
   "metadata": {},
   "outputs": [
    {
     "data": {
      "text/plain": [
       "[ 'constructor' ]"
      ]
     },
     "execution_count": 25,
     "metadata": {},
     "output_type": "execute_result"
    }
   ],
   "source": [
    "Object.getOwnPropertyNames(Student.prototype)"
   ]
  },
  {
   "cell_type": "code",
   "execution_count": 4,
   "metadata": {},
   "outputs": [
    {
     "data": {
      "text/plain": [
       "undefined"
      ]
     },
     "execution_count": 4,
     "metadata": {},
     "output_type": "execute_result"
    }
   ],
   "source": [
    "class Person {\n",
    "  constructor(first, last, age, gender, interests) {\n",
    "    this.name = {\n",
    "      first,\n",
    "      last\n",
    "    };\n",
    "    this.age = age;\n",
    "    this.gender = gender;\n",
    "    this.interests = interests;\n",
    "  }\n",
    "\n",
    "  greeting() {\n",
    "    console.log(`Hi! I'm ${this.name.first}`);\n",
    "  };\n",
    "\n",
    "  farewell() {\n",
    "    console.log(`${this.name.first} has left the building. Bye for now!`);\n",
    "  };\n",
    "}"
   ]
  },
  {
   "cell_type": "raw",
   "metadata": {},
   "source": [
    "The class statement indicates that we are creating a new class. Inside this block, we define all the features of the class:\n",
    "\n",
    "The constructor() method defines the constructor function that represents our Person class.\n",
    "greeting() and farewell() are class methods. Any methods you want associated with the class are defined inside it, after the constructor. In this example, we've used template literals rather than string concatenation to make the code easier to read.\n",
    "We can now instantiate object instances using the new operator, in just the same way as we did before:"
   ]
  },
  {
   "cell_type": "code",
   "execution_count": 5,
   "metadata": {},
   "outputs": [
    {
     "name": "stdout",
     "output_type": "stream",
     "text": [
      "Hi! I'm Han\n",
      "Leia has left the building. Bye for now!\n"
     ]
    },
    {
     "data": {
      "text/plain": [
       "undefined"
      ]
     },
     "execution_count": 5,
     "metadata": {},
     "output_type": "execute_result"
    }
   ],
   "source": [
    "let han = new Person('Han', 'Solo', 25, 'male', ['Smuggling']);\n",
    "han.greeting();\n",
    "// Hi! I'm Han\n",
    "\n",
    "let leia = new Person('Leia', 'Organa', 19, 'female', ['Government']);\n",
    "leia.farewell();\n",
    "// Leia has left the building. Bye for now"
   ]
  },
  {
   "cell_type": "markdown",
   "metadata": {},
   "source": [
    "# Note: Under the hood, your classes are being converted into Prototypal Inheritance models — this is just syntactic sugar. But I'm sure you'll agree that it's easier to write.\n",
    "## Teacher.prototype = Object.create(Person.prototype);\n",
    "### Simply inheriting from the person gives us the properties defined inside constructor function but not the methods. to access the methods we would have to use protoype inheritance as above in constructor function. \n",
    "## This every this is solved using classes which use prototype inheritance so object can access methods inside class"
   ]
  },
  {
   "cell_type": "code",
   "execution_count": 4,
   "metadata": {},
   "outputs": [
    {
     "data": {
      "text/plain": [
       "undefined"
      ]
     },
     "execution_count": 4,
     "metadata": {},
     "output_type": "execute_result"
    }
   ],
   "source": [
    "class Person {\n",
    "  constructor(first, last, age, gender, interests) {\n",
    "    this.name = {\n",
    "      first,\n",
    "      last\n",
    "    };\n",
    "    this.age = age;\n",
    "    this.gender = gender;\n",
    "    this.interests = interests;\n",
    "  }\n",
    "\n",
    "  greeting() {\n",
    "    console.log(`Hi! I'm ${this.name.first}`);\n",
    "  };\n",
    "\n",
    "  farewell() {\n",
    "    console.log(`${this.name.first} has left the building. Bye for now!`);\n",
    "  };\n",
    "}"
   ]
  },
  {
   "cell_type": "code",
   "execution_count": 1,
   "metadata": {},
   "outputs": [
    {
     "data": {
      "text/plain": [
       "undefined"
      ]
     },
     "execution_count": 1,
     "metadata": {},
     "output_type": "execute_result"
    }
   ],
   "source": [
    "class Person {\n",
    "  constructor(first, last, age, gender, interests) {\n",
    "    this.name = {\n",
    "      first,\n",
    "      last\n",
    "    };\n",
    "    this.age = age;\n",
    "    this.gender = gender;\n",
    "    this.interests = interests;\n",
    "  }\n",
    "\n",
    "  greeting() {\n",
    "    console.log(`Hi! I'm ${this.name.first}`);\n",
    "  };\n",
    "\n",
    "  farewell() {\n",
    "    console.log(`${this.name.first} has left the building. Bye for now!`);\n",
    "  };\n",
    "}\n",
    "\n",
    "\n",
    "class Teacher extends Person {\n",
    "  constructor(subject, grade) {\n",
    "    super(first, last, age, gender, interests);\n",
    "    this.subject = subject;\n",
    "    this.grade = grade;\n",
    "  }\n",
    "}"
   ]
  },
  {
   "cell_type": "markdown",
   "metadata": {},
   "source": [
    "#### Since the super() operator is actually the parent class constructor, passing it the necessary arguments of the Parent class constructor will also initialize the parent class properties in our sub-class, thereby inheriting it:"
   ]
  },
  {
   "cell_type": "code",
   "execution_count": 2,
   "metadata": {},
   "outputs": [
    {
     "ename": "SyntaxError",
     "evalue": "Identifier 'Person' has already been declared",
     "output_type": "error",
     "traceback": [
      "evalmachine.<anonymous>:1",
      "class Person {",
      "^",
      "",
      "SyntaxError: Identifier 'Person' has already been declared",
      "    at evalmachine.<anonymous>:1:1",
      "    at Script.runInThisContext (vm.js:96:20)",
      "    at Object.runInThisContext (vm.js:303:38)",
      "    at run ([eval]:1054:15)",
      "    at onRunRequest ([eval]:888:18)",
      "    at onMessage ([eval]:848:13)",
      "    at process.emit (events.js:182:13)",
      "    at emit (internal/child_process.js:812:12)",
      "    at process._tickCallback (internal/process/next_tick.js:63:19)"
     ]
    }
   ],
   "source": [
    "class Person {\n",
    "  constructor(first, last, age, gender, interests) {\n",
    "    this.name = {\n",
    "      first,\n",
    "      last\n",
    "    };\n",
    "    this.age = age;\n",
    "    this.gender = gender;\n",
    "    this.interests = interests;\n",
    "  }\n",
    "\n",
    "  greeting() {\n",
    "    console.log(`Hi! I'm ${this.name.first}`);\n",
    "  };\n",
    "\n",
    "  farewell() {\n",
    "    console.log(`${this.name.first} has left the building. Bye for now!`);\n",
    "  };\n",
    "}\n",
    "\n",
    "\n",
    "class Teacher extends Person {\n",
    "  constructor(subject, grade) {\n",
    "    super(first, last, age, gender, interests);\n",
    "    this.subject = subject;\n",
    "    this.grade = grade;\n",
    "  }\n",
    "}"
   ]
  },
  {
   "cell_type": "raw",
   "metadata": {},
   "source": [
    "Getters and setters work in pairs. A getter returns the current value of the variable and its corresponding setter changes the value of the variable to the one it defines."
   ]
  },
  {
   "cell_type": "code",
   "execution_count": null,
   "metadata": {},
   "outputs": [],
   "source": []
  },
  {
   "cell_type": "code",
   "execution_count": null,
   "metadata": {},
   "outputs": [],
   "source": []
  },
  {
   "cell_type": "raw",
   "metadata": {},
   "source": [
    "In our class above we have a getter and setter for the subject property. We use _ to create a separate value in which to store our name property. Without using this convention, we would get errors every time we called get or set. At this point:\n",
    "\n",
    "To show the current value of the _subject property of the snape object we can use the snape.subject getter method.\n",
    "To assign a new value to the _subject property we can use the snape.subject=\"new value\" setter method."
   ]
  },
  {
   "cell_type": "code",
   "execution_count": 1,
   "metadata": {},
   "outputs": [
    {
     "data": {
      "text/plain": [
       "undefined"
      ]
     },
     "execution_count": 1,
     "metadata": {},
     "output_type": "execute_result"
    }
   ],
   "source": [
    "class Person {\n",
    "  constructor(first, last, age, gender, interests) {\n",
    "    this.name = {\n",
    "      first,\n",
    "      last\n",
    "    };\n",
    "    this.age = age;\n",
    "    this.gender = gender;\n",
    "    this.interests = interests;\n",
    "  }\n",
    "\n",
    "  greeting() {\n",
    "    console.log(`Hi! I'm ${this.name.first}`);\n",
    "  };\n",
    "\n",
    "  farewell() {\n",
    "    console.log(`${this.name.first} has left the building. Bye for now!`);\n",
    "  };\n",
    "}\n",
    "\n",
    "\n",
    "class Teacher extends Person {\n",
    "  constructor(first, last, age, gender, interests, subject, grade) {\n",
    "    super(first, last, age, gender, interests);\n",
    "    // subject and grade are specific to Teacher\n",
    "    this._subject = subject;\n",
    "    this.grade = grade;\n",
    "  }\n",
    "\n",
    "  get subject() {\n",
    "    return this._subject;\n",
    "  }\n",
    "\n",
    "  set subject(newSubject) {\n",
    "    this._subject = newSubject;\n",
    "  }\n",
    "}"
   ]
  },
  {
   "cell_type": "code",
   "execution_count": 3,
   "metadata": {},
   "outputs": [
    {
     "name": "stdout",
     "output_type": "stream",
     "text": [
      "Hi! I'm Severus\n",
      "Severus has left the building. Bye for now!\n",
      "Dark arts\n",
      "Balloon animals\n"
     ]
    },
    {
     "data": {
      "text/plain": [
       "undefined"
      ]
     },
     "execution_count": 3,
     "metadata": {},
     "output_type": "execute_result"
    }
   ],
   "source": [
    "let snape = new Teacher('Severus', 'Snape', 58, 'male', ['Potions'], 'Dark arts', 5);\n",
    "snape.greeting(); // Hi! I'm Severus.\n",
    "snape.farewell(); // Severus has left the building. Bye for now.\n",
    "snape.age // 58\n",
    "snape.subject; // Dark arts\n",
    "\n",
    "console.log(snape.subject) // Returns \"Dark arts\"\n",
    "\n",
    "// Change the value\n",
    "snape.subject = \"Balloon animals\" // Sets _subject to \"Balloon animals\"\n",
    "\n",
    "// Check it again and see if it matches the new value\n",
    "console.log(snape.subject) // Returns \"Balloon animals\""
   ]
  },
  {
   "cell_type": "code",
   "execution_count": null,
   "metadata": {},
   "outputs": [],
   "source": []
  }
 ],
 "metadata": {
  "kernelspec": {
   "display_name": "Javascript (Node.js)",
   "language": "javascript",
   "name": "javascript"
  },
  "language_info": {
   "file_extension": ".js",
   "mimetype": "application/javascript",
   "name": "javascript",
   "version": "10.13.0"
  }
 },
 "nbformat": 4,
 "nbformat_minor": 2
}
