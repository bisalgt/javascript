{
 "cells": [
  {
   "cell_type": "code",
   "execution_count": 1,
   "metadata": {},
   "outputs": [
    {
     "name": "stdout",
     "output_type": "stream",
     "text": [
      "7\n"
     ]
    },
    {
     "data": {
      "text/plain": [
       "undefined"
      ]
     },
     "execution_count": 1,
     "metadata": {},
     "output_type": "execute_result"
    }
   ],
   "source": [
    "let browserType = 'moxilla';\n",
    "console.log(browserType.length);"
   ]
  },
  {
   "cell_type": "code",
   "execution_count": 2,
   "metadata": {},
   "outputs": [
    {
     "data": {
      "text/plain": [
       "'m'"
      ]
     },
     "execution_count": 2,
     "metadata": {},
     "output_type": "execute_result"
    }
   ],
   "source": [
    "browserType[0]"
   ]
  },
  {
   "cell_type": "code",
   "execution_count": 3,
   "metadata": {},
   "outputs": [
    {
     "data": {
      "text/plain": [
       "'a'"
      ]
     },
     "execution_count": 3,
     "metadata": {},
     "output_type": "execute_result"
    }
   ],
   "source": [
    "browserType[browserType.length-1]"
   ]
  },
  {
   "cell_type": "code",
   "execution_count": 4,
   "metadata": {},
   "outputs": [
    {
     "data": {
      "text/plain": [
       "5"
      ]
     },
     "execution_count": 4,
     "metadata": {},
     "output_type": "execute_result"
    }
   ],
   "source": [
    "browserType.indexOf('la');"
   ]
  },
  {
   "cell_type": "code",
   "execution_count": 5,
   "metadata": {},
   "outputs": [
    {
     "data": {
      "text/plain": [
       "'l'"
      ]
     },
     "execution_count": 5,
     "metadata": {},
     "output_type": "execute_result"
    }
   ],
   "source": [
    "browserType[5]"
   ]
  },
  {
   "cell_type": "markdown",
   "metadata": {},
   "source": [
    "##### This should give you a result of -1 — this is returned when the substring, in this case 'vanilla', is not found in the main string"
   ]
  },
  {
   "cell_type": "code",
   "execution_count": 6,
   "metadata": {},
   "outputs": [
    {
     "data": {
      "text/plain": [
       "-1"
      ]
     },
     "execution_count": 6,
     "metadata": {},
     "output_type": "execute_result"
    }
   ],
   "source": [
    "browserType.indexOf('bishal');"
   ]
  },
  {
   "cell_type": "raw",
   "metadata": {},
   "source": [
    "When you know where a substring starts inside a string, and you know at which character you want it to end, slice() can be used to extract it. Try the following:\n",
    "browserType.slice(0,3);"
   ]
  },
  {
   "cell_type": "code",
   "execution_count": 7,
   "metadata": {},
   "outputs": [
    {
     "data": {
      "text/plain": [
       "'mox'"
      ]
     },
     "execution_count": 7,
     "metadata": {},
     "output_type": "execute_result"
    }
   ],
   "source": [
    "browserType.slice(0,3);"
   ]
  },
  {
   "cell_type": "raw",
   "metadata": {},
   "source": [
    "if you want to extract all the remaining characters in a string after a character then only one argument is supplied to slice()"
   ]
  },
  {
   "cell_type": "code",
   "execution_count": 8,
   "metadata": {},
   "outputs": [
    {
     "data": {
      "text/plain": [
       "'xilla'"
      ]
     },
     "execution_count": 8,
     "metadata": {},
     "output_type": "execute_result"
    }
   ],
   "source": [
    "browserType.slice(2);"
   ]
  },
  {
   "cell_type": "code",
   "execution_count": 10,
   "metadata": {},
   "outputs": [
    {
     "name": "stdout",
     "output_type": "stream",
     "text": [
      "s is \n",
      " a string and i know it.\n",
      ".\n",
      "t.\n",
      "w it.\n",
      "now it\n"
     ]
    },
    {
     "data": {
      "text/plain": [
       "undefined"
      ]
     },
     "execution_count": 10,
     "metadata": {},
     "output_type": "execute_result"
    }
   ],
   "source": [
    "var myString = 'This is a string and i know it.';\n",
    "console.log(myString.slice(3,8));\n",
    "console.log(myString.slice(7));\n",
    "console.log(myString.slice(-1));\n",
    "console.log(myString.slice(-2));\n",
    "console.log(myString.slice(-5));\n",
    "console.log(myString.slice(-7,-1));"
   ]
  },
  {
   "cell_type": "code",
   "execution_count": 11,
   "metadata": {},
   "outputs": [
    {
     "data": {
      "text/plain": [
       "undefined"
      ]
     },
     "execution_count": 11,
     "metadata": {},
     "output_type": "execute_result"
    }
   ],
   "source": [
    "myString[-1]"
   ]
  },
  {
   "cell_type": "code",
   "execution_count": 12,
   "metadata": {},
   "outputs": [
    {
     "data": {
      "text/plain": [
       "undefined"
      ]
     },
     "execution_count": 12,
     "metadata": {},
     "output_type": "execute_result"
    }
   ],
   "source": [
    "myString[-2]"
   ]
  },
  {
   "cell_type": "markdown",
   "metadata": {},
   "source": [
    "##### toUpperCase() and toLowerCase()"
   ]
  },
  {
   "cell_type": "code",
   "execution_count": 13,
   "metadata": {},
   "outputs": [
    {
     "name": "stdout",
     "output_type": "stream",
     "text": [
      "THIS IS A STRING AND I KNOW IT.\n",
      "this is a string and i know it.\n"
     ]
    },
    {
     "data": {
      "text/plain": [
       "undefined"
      ]
     },
     "execution_count": 13,
     "metadata": {},
     "output_type": "execute_result"
    }
   ],
   "source": [
    "console.log(myString.toUpperCase());\n",
    "console.log(myString.toLowerCase());"
   ]
  },
  {
   "cell_type": "markdown",
   "metadata": {},
   "source": [
    "#### Updating parts of a string\n",
    "You can replace one substring inside a string with another substring using the replace() method."
   ]
  },
  {
   "cell_type": "code",
   "execution_count": 14,
   "metadata": {},
   "outputs": [
    {
     "name": "stdout",
     "output_type": "stream",
     "text": [
      "This is a string and i know it.\n",
      "This is a string and i donot know it..\n",
      "This is a string and i know it.\n"
     ]
    },
    {
     "data": {
      "text/plain": [
       "undefined"
      ]
     },
     "execution_count": 14,
     "metadata": {},
     "output_type": "execute_result"
    }
   ],
   "source": [
    "console.log(myString);\n",
    "console.log(myString.replace('i know it', 'i donot know it.')); // just returns the replaced string doesnot changes the original string\n",
    "console.log(myString);"
   ]
  },
  {
   "cell_type": "markdown",
   "metadata": {},
   "source": [
    "#####    To actually replace the content of original string"
   ]
  },
  {
   "cell_type": "code",
   "execution_count": 15,
   "metadata": {},
   "outputs": [
    {
     "name": "stdout",
     "output_type": "stream",
     "text": [
      "This is a string and i know it.\n",
      "This is a string and i donot know it..\n"
     ]
    },
    {
     "data": {
      "text/plain": [
       "undefined"
      ]
     },
     "execution_count": 15,
     "metadata": {},
     "output_type": "execute_result"
    }
   ],
   "source": [
    "console.log(myString);\n",
    "myString = myString.replace('i know it', 'i donot know it.'); // reassigns the replaced/ updated string to the original string\n",
    "console.log(myString);"
   ]
  },
  {
   "cell_type": "code",
   "execution_count": 16,
   "metadata": {},
   "outputs": [
    {
     "data": {
      "text/plain": [
       "3"
      ]
     },
     "execution_count": 16,
     "metadata": {},
     "output_type": "execute_result"
    }
   ],
   "source": [
    "var name = 'Nisall';\n",
    "name.toLowerCase().indexOf('all');"
   ]
  },
  {
   "cell_type": "code",
   "execution_count": null,
   "metadata": {},
   "outputs": [],
   "source": []
  },
  {
   "cell_type": "code",
   "execution_count": 17,
   "metadata": {},
   "outputs": [
    {
     "name": "stdout",
     "output_type": "stream",
     "text": [
      "Merry Christmas my love\n",
      "A happy Christmas to all the family\n",
      "You're all I want for Christmas\n"
     ]
    },
    {
     "data": {
      "text/plain": [
       "undefined"
      ]
     },
     "execution_count": 17,
     "metadata": {},
     "output_type": "execute_result"
    }
   ],
   "source": [
    "let greetings = ['Happy Birthday!',\n",
    "                 'Merry Christmas my love',\n",
    "                 'A happy Christmas to all the family',\n",
    "                 'You\\'re all I want for Christmas',\n",
    "                 'Get well soon'];\n",
    "\n",
    "for(let i=0; i< greetings.length; i++){\n",
    "    if(greetings[i].toLowerCase().indexOf('christmas') !== -1){\n",
    "        console.log(greetings[i])\n",
    "    }\n",
    "}"
   ]
  },
  {
   "cell_type": "code",
   "execution_count": 21,
   "metadata": {},
   "outputs": [
    {
     "name": "stdout",
     "output_type": "stream",
     "text": [
      "[ 'London', 'Manchester', 'Birmingham', 'Liverpool' ]\n"
     ]
    },
    {
     "data": {
      "text/plain": [
       "undefined"
      ]
     },
     "execution_count": 21,
     "metadata": {},
     "output_type": "execute_result"
    }
   ],
   "source": [
    "var citiess = ['lonDon', 'ManCHESTer', 'BiRmiNGHAM', 'liVERpoOL'];\n",
    "\n",
    "for (i=0;i<citiess.length; i++){\n",
    "    var temp = citiess[i].toLowerCase();\n",
    "    citiess[i] = temp[0].toUpperCase()+temp.slice(1);\n",
    "}\n",
    "\n",
    "console.log(citiess);"
   ]
  },
  {
   "cell_type": "code",
   "execution_count": null,
   "metadata": {},
   "outputs": [],
   "source": []
  },
  {
   "cell_type": "code",
   "execution_count": null,
   "metadata": {},
   "outputs": [],
   "source": []
  },
  {
   "cell_type": "code",
   "execution_count": 22,
   "metadata": {},
   "outputs": [
    {
     "name": "stdout",
     "output_type": "stream",
     "text": [
      "[ 'London', 'Manchester', 'Birmingham', 'Liverpool' ]\n"
     ]
    },
    {
     "data": {
      "text/plain": [
       "undefined"
      ]
     },
     "execution_count": 22,
     "metadata": {},
     "output_type": "execute_result"
    }
   ],
   "source": [
    "var citie = ['lonDon', 'ManCHESTer', 'BiRmiNGHAM', 'liVERpoOL'];\n",
    "\n",
    "for (i=0;i<citie.length; i++){\n",
    "    var temp = citie[i].toLowerCase();\n",
    "    citie[i] = temp.replace(temp[0], temp[0].toUpperCase());\n",
    "}\n",
    "\n",
    "console.log(citie);"
   ]
  },
  {
   "cell_type": "code",
   "execution_count": 23,
   "metadata": {},
   "outputs": [
    {
     "name": "stdout",
     "output_type": "stream",
     "text": [
      "[ 'MAN: Manchester Piccadilly',\n",
      "  'GNF: Greenfield',\n",
      "  'LIV: Liverpool Lime Street',\n",
      "  'SYB: Stalybridge',\n",
      "  'HUD: Huddersfield' ]\n"
     ]
    },
    {
     "data": {
      "text/plain": [
       "undefined"
      ]
     },
     "execution_count": 23,
     "metadata": {},
     "output_type": "execute_result"
    }
   ],
   "source": [
    "let stations = ['MAN675847583748sjt567654;Manchester Piccadilly',\n",
    "                'GNF576746573fhdg4737dh4;Greenfield',\n",
    "                'LIV5hg65hd737456236dch46dg4;Liverpool Lime Street',\n",
    "                'SYB4f65hf75f736463;Stalybridge',\n",
    "                'HUD5767ghtyfyr4536dh45dg45dg3;Huddersfield'];\n",
    "var newStation = []\n",
    "for (i=0;i<stations.length; i++){\n",
    "    tempOne = stations[i].slice(0,3);\n",
    "    index = stations[i].indexOf(';');\n",
    "    tempTwo = stations[i].slice(index+1);\n",
    "    tempFinal = tempOne+': '+tempTwo;\n",
    "    newStation.push(tempFinal);\n",
    "}\n",
    "\n",
    "console.log(newStation);"
   ]
  },
  {
   "cell_type": "markdown",
   "metadata": {},
   "source": [
    "#### Arrays are generally described as \"list-like objects\"; they are basically single objects that contain multiple values stored in a list"
   ]
  },
  {
   "cell_type": "code",
   "execution_count": 24,
   "metadata": {},
   "outputs": [
    {
     "data": {
      "text/plain": [
       "undefined"
      ]
     },
     "execution_count": 24,
     "metadata": {},
     "output_type": "execute_result"
    }
   ],
   "source": [
    "let sequence = [1, 1, 2, 3, 5, 8, 13];\n",
    "let random = ['tree', 795, [0, 1, 2]];"
   ]
  },
  {
   "cell_type": "raw",
   "metadata": {},
   "source": [
    "You can then access individual items in the array using bracket notation"
   ]
  },
  {
   "cell_type": "code",
   "execution_count": 25,
   "metadata": {},
   "outputs": [
    {
     "data": {
      "text/plain": [
       "3"
      ]
     },
     "execution_count": 25,
     "metadata": {},
     "output_type": "execute_result"
    }
   ],
   "source": [
    "sequence[3]"
   ]
  },
  {
   "cell_type": "code",
   "execution_count": 26,
   "metadata": {},
   "outputs": [
    {
     "name": "stdout",
     "output_type": "stream",
     "text": [
      "[ 1, 1, 2, 3, 5, 8, 13 ]\n",
      "[ 1, 1, 2, 'changing this index', 5, 8, 13 ]\n"
     ]
    },
    {
     "data": {
      "text/plain": [
       "undefined"
      ]
     },
     "execution_count": 26,
     "metadata": {},
     "output_type": "execute_result"
    }
   ],
   "source": [
    "// We can reassig values to individual index of arrays.\n",
    "\n",
    "console.log(sequence);\n",
    "sequence[3] = 'changing this index';\n",
    "console.log(sequence);"
   ]
  },
  {
   "cell_type": "raw",
   "metadata": {},
   "source": [
    "Note that an array inside an array is called a multidimensional array. You can access an item inside an array that is itself inside another array by chaining two sets of square brackets together."
   ]
  },
  {
   "cell_type": "code",
   "execution_count": 27,
   "metadata": {},
   "outputs": [
    {
     "name": "stdout",
     "output_type": "stream",
     "text": [
      "[ 'tree', 795, [ 0, 1, 2 ] ]\n"
     ]
    },
    {
     "data": {
      "text/plain": [
       "undefined"
      ]
     },
     "execution_count": 27,
     "metadata": {},
     "output_type": "execute_result"
    }
   ],
   "source": [
    "console.log(random);"
   ]
  },
  {
   "cell_type": "code",
   "execution_count": 28,
   "metadata": {},
   "outputs": [
    {
     "data": {
      "text/plain": [
       "1"
      ]
     },
     "execution_count": 28,
     "metadata": {},
     "output_type": "execute_result"
    }
   ],
   "source": [
    "random[2][1]"
   ]
  },
  {
   "cell_type": "code",
   "execution_count": 30,
   "metadata": {},
   "outputs": [
    {
     "data": {
      "text/plain": [
       "[ 'length',\n",
       "  'constructor',\n",
       "  'concat',\n",
       "  'find',\n",
       "  'findIndex',\n",
       "  'pop',\n",
       "  'push',\n",
       "  'shift',\n",
       "  'unshift',\n",
       "  'slice',\n",
       "  'splice',\n",
       "  'includes',\n",
       "  'indexOf',\n",
       "  'keys',\n",
       "  'entries',\n",
       "  'forEach',\n",
       "  'filter',\n",
       "  'map',\n",
       "  'every',\n",
       "  'some',\n",
       "  'reduce',\n",
       "  'reduceRight',\n",
       "  'toString',\n",
       "  'toLocaleString',\n",
       "  'join',\n",
       "  'reverse',\n",
       "  'sort',\n",
       "  'lastIndexOf',\n",
       "  'copyWithin',\n",
       "  'fill',\n",
       "  'values' ]"
      ]
     },
     "execution_count": 30,
     "metadata": {},
     "output_type": "execute_result"
    }
   ],
   "source": [
    "Object.getOwnPropertyNames(Array.prototype);"
   ]
  },
  {
   "cell_type": "code",
   "execution_count": 31,
   "metadata": {},
   "outputs": [
    {
     "name": "stdout",
     "output_type": "stream",
     "text": [
      "1, 2, 3, 4, 5\n"
     ]
    },
    {
     "data": {
      "text/plain": [
       "undefined"
      ]
     },
     "execution_count": 31,
     "metadata": {},
     "output_type": "execute_result"
    }
   ],
   "source": [
    "var myArr = [1,2,3,4,5];\n",
    "var myStr = myArr.join(', ');\n",
    "console.log(myStr);"
   ]
  },
  {
   "cell_type": "code",
   "execution_count": 32,
   "metadata": {},
   "outputs": [
    {
     "data": {
      "text/plain": [
       "[ 1, 2, 3, 4, 5 ]"
      ]
     },
     "execution_count": 32,
     "metadata": {},
     "output_type": "execute_result"
    }
   ],
   "source": [
    "myArr.sort()"
   ]
  },
  {
   "cell_type": "code",
   "execution_count": 33,
   "metadata": {},
   "outputs": [
    {
     "name": "stdout",
     "output_type": "stream",
     "text": [
      "[ 'ram', ' shyam', ' hari', ' geeta', ' manish', ' hemant' ]\n"
     ]
    },
    {
     "data": {
      "text/plain": [
       "undefined"
      ]
     },
     "execution_count": 33,
     "metadata": {},
     "output_type": "execute_result"
    }
   ],
   "source": [
    "var myFriend = 'ram, shyam, hari, geeta, manish, hemant';\n",
    "var newStr = myFriend.split(',')\n",
    "console.log(newStr)"
   ]
  },
  {
   "cell_type": "markdown",
   "metadata": {},
   "source": [
    "## Pushing and poping element to Array"
   ]
  },
  {
   "cell_type": "code",
   "execution_count": 34,
   "metadata": {},
   "outputs": [
    {
     "data": {
      "text/plain": [
       "undefined"
      ]
     },
     "execution_count": 34,
     "metadata": {},
     "output_type": "execute_result"
    }
   ],
   "source": [
    "var myArray = ['Manchester', 'London', 'Liverpool', 'Birmingham', 'Leeds', 'Carlisle'];\n"
   ]
  },
  {
   "cell_type": "code",
   "execution_count": 35,
   "metadata": {},
   "outputs": [
    {
     "name": "stdout",
     "output_type": "stream",
     "text": [
      "[ 'Manchester',\n",
      "  'London',\n",
      "  'Liverpool',\n",
      "  'Birmingham',\n",
      "  'Leeds',\n",
      "  'Carlisle',\n",
      "  'Kathmandu' ]\n"
     ]
    },
    {
     "data": {
      "text/plain": [
       "undefined"
      ]
     },
     "execution_count": 35,
     "metadata": {},
     "output_type": "execute_result"
    }
   ],
   "source": [
    "myArray.push('Kathmandu');\n",
    "console.log(myArray)"
   ]
  },
  {
   "cell_type": "code",
   "execution_count": 36,
   "metadata": {},
   "outputs": [
    {
     "data": {
      "text/plain": [
       "'Kathmandu'"
      ]
     },
     "execution_count": 36,
     "metadata": {},
     "output_type": "execute_result"
    }
   ],
   "source": [
    "myArray.pop()"
   ]
  },
  {
   "cell_type": "code",
   "execution_count": 37,
   "metadata": {},
   "outputs": [
    {
     "name": "stdout",
     "output_type": "stream",
     "text": [
      "[ 'Manchester',\n",
      "  'London',\n",
      "  'Liverpool',\n",
      "  'Birmingham',\n",
      "  'Leeds',\n",
      "  'Carlisle' ]\n"
     ]
    },
    {
     "data": {
      "text/plain": [
       "undefined"
      ]
     },
     "execution_count": 37,
     "metadata": {},
     "output_type": "execute_result"
    }
   ],
   "source": [
    "console.log(myArray)"
   ]
  },
  {
   "cell_type": "code",
   "execution_count": 38,
   "metadata": {},
   "outputs": [
    {
     "name": "stdout",
     "output_type": "stream",
     "text": [
      "Carlisle\n"
     ]
    },
    {
     "data": {
      "text/plain": [
       "undefined"
      ]
     },
     "execution_count": 38,
     "metadata": {},
     "output_type": "execute_result"
    }
   ],
   "source": [
    "var myItem = myArray.pop();\n",
    "console.log(myItem);"
   ]
  },
  {
   "cell_type": "markdown",
   "metadata": {},
   "source": [
    "### unshift() and shift() work in exactly the same way as push() and pop(), respectively, except that they work on the beginning of the array, not the end"
   ]
  },
  {
   "cell_type": "markdown",
   "metadata": {},
   "source": [
    "## unshift=== push\n",
    "## shift ===  pop"
   ]
  },
  {
   "cell_type": "code",
   "execution_count": 39,
   "metadata": {},
   "outputs": [
    {
     "data": {
      "text/plain": [
       "[ 'Manchester', 'London', 'Liverpool', 'Birmingham', 'Leeds' ]"
      ]
     },
     "execution_count": 39,
     "metadata": {},
     "output_type": "execute_result"
    }
   ],
   "source": [
    "myArray"
   ]
  },
  {
   "cell_type": "code",
   "execution_count": 40,
   "metadata": {},
   "outputs": [
    {
     "data": {
      "text/plain": [
       "6"
      ]
     },
     "execution_count": 40,
     "metadata": {},
     "output_type": "execute_result"
    }
   ],
   "source": [
    "myArray.unshift('Kathmandu');"
   ]
  },
  {
   "cell_type": "code",
   "execution_count": 41,
   "metadata": {},
   "outputs": [
    {
     "name": "stdout",
     "output_type": "stream",
     "text": [
      "[ 'Kathmandu',\n",
      "  'Manchester',\n",
      "  'London',\n",
      "  'Liverpool',\n",
      "  'Birmingham',\n",
      "  'Leeds' ]\n"
     ]
    },
    {
     "data": {
      "text/plain": [
       "undefined"
      ]
     },
     "execution_count": 41,
     "metadata": {},
     "output_type": "execute_result"
    }
   ],
   "source": [
    "console.log(myArray);"
   ]
  },
  {
   "cell_type": "code",
   "execution_count": 42,
   "metadata": {},
   "outputs": [
    {
     "data": {
      "text/plain": [
       "'Kathmandu'"
      ]
     },
     "execution_count": 42,
     "metadata": {},
     "output_type": "execute_result"
    }
   ],
   "source": [
    "myArray.shift();"
   ]
  },
  {
   "cell_type": "code",
   "execution_count": 43,
   "metadata": {},
   "outputs": [
    {
     "name": "stdout",
     "output_type": "stream",
     "text": [
      "[ 'Manchester', 'London', 'Liverpool', 'Birmingham', 'Leeds' ]\n"
     ]
    },
    {
     "data": {
      "text/plain": [
       "undefined"
      ]
     },
     "execution_count": 43,
     "metadata": {},
     "output_type": "execute_result"
    }
   ],
   "source": [
    "console.log(myArray);"
   ]
  },
  {
   "cell_type": "code",
   "execution_count": 50,
   "metadata": {},
   "outputs": [
    {
     "name": "stdout",
     "output_type": "stream",
     "text": [
      "{ Underpants: 6.99,\n",
      "  Socks: 5.99,\n",
      "  'T-shirt': 14.99,\n",
      "  Trousers: 31.99,\n",
      "  Shoes: 23.99 }\n"
     ]
    },
    {
     "data": {
      "text/plain": [
       "undefined"
      ]
     },
     "execution_count": 50,
     "metadata": {},
     "output_type": "execute_result"
    }
   ],
   "source": [
    "var productDetail = ['Underpants:6.99','Socks:5.99','T-shirt:14.99','Trousers:31.99', 'Shoes:23.99'];\n",
    "\n",
    "var productObj = {};\n",
    "\n",
    "for (i=0; i<productDetail.length; i++ ){\n",
    "    var index = productDetail[i].indexOf(':');\n",
    "    var product = productDetail[i].slice(0, index);\n",
    "    var price = productDetail[i].slice(index+1);\n",
    "    var numPrice = Number(price);\n",
    "    productObj[product] = numPrice;\n",
    "}\n",
    "\n",
    "console.log(productObj);\n"
   ]
  },
  {
   "cell_type": "code",
   "execution_count": 51,
   "metadata": {},
   "outputs": [
    {
     "data": {
      "text/plain": [
       "[ 'constructor',\n",
       "  '__defineGetter__',\n",
       "  '__defineSetter__',\n",
       "  'hasOwnProperty',\n",
       "  '__lookupGetter__',\n",
       "  '__lookupSetter__',\n",
       "  'isPrototypeOf',\n",
       "  'propertyIsEnumerable',\n",
       "  'toString',\n",
       "  'valueOf',\n",
       "  '__proto__',\n",
       "  'toLocaleString' ]"
      ]
     },
     "execution_count": 51,
     "metadata": {},
     "output_type": "execute_result"
    }
   ],
   "source": [
    "Object.getOwnPropertyNames(Object.prototype)"
   ]
  },
  {
   "cell_type": "code",
   "execution_count": 52,
   "metadata": {},
   "outputs": [
    {
     "data": {
      "text/plain": [
       "[ 'Underpants', 'Socks', 'T-shirt', 'Trousers', 'Shoes' ]"
      ]
     },
     "execution_count": 52,
     "metadata": {},
     "output_type": "execute_result"
    }
   ],
   "source": [
    "Object.getOwnPropertyNames(productObj)"
   ]
  },
  {
   "cell_type": "code",
   "execution_count": 53,
   "metadata": {},
   "outputs": [
    {
     "name": "stdout",
     "output_type": "stream",
     "text": [
      "Underpants\n",
      "Socks\n",
      "T-shirt\n",
      "Trousers\n",
      "Shoes\n"
     ]
    },
    {
     "data": {
      "text/plain": [
       "undefined"
      ]
     },
     "execution_count": 53,
     "metadata": {},
     "output_type": "execute_result"
    }
   ],
   "source": [
    "for(var key in productObj){\n",
    "    console.log(key);\n",
    "}"
   ]
  },
  {
   "cell_type": "code",
   "execution_count": 56,
   "metadata": {},
   "outputs": [
    {
     "name": "stdout",
     "output_type": "stream",
     "text": [
      "Underpants : 6.99\n",
      "Socks : 5.99\n",
      "T-shirt : 14.99\n",
      "Trousers : 31.99\n",
      "Shoes : 23.99\n",
      "Total : 83.94999999999999\n"
     ]
    },
    {
     "data": {
      "text/plain": [
       "undefined"
      ]
     },
     "execution_count": 56,
     "metadata": {},
     "output_type": "execute_result"
    }
   ],
   "source": [
    "var tempSum = 0;\n",
    "for(var key in productObj){\n",
    "    console.log(key+' : '+productObj[key]);\n",
    "    tempSum += productObj[key];\n",
    "}\n",
    "console.log('Total : '+tempSum)"
   ]
  },
  {
   "cell_type": "code",
   "execution_count": 57,
   "metadata": {},
   "outputs": [
    {
     "name": "stdout",
     "output_type": "stream",
     "text": [
      "Underpants : 6.99\n",
      "Socks : 5.99\n",
      "T-shirt : 14.99\n",
      "Trousers : 31.99\n",
      "Shoes : 23.99\n",
      "Total : 84\n"
     ]
    },
    {
     "data": {
      "text/plain": [
       "undefined"
      ]
     },
     "execution_count": 57,
     "metadata": {},
     "output_type": "execute_result"
    }
   ],
   "source": [
    "var tempSum = 0;\n",
    "for(var key in productObj){\n",
    "    console.log(key+' : '+productObj[key]);\n",
    "    tempSum += productObj[key];\n",
    "}\n",
    "console.log('Total : '+Math.ceil(tempSum))"
   ]
  },
  {
   "cell_type": "code",
   "execution_count": 58,
   "metadata": {},
   "outputs": [
    {
     "name": "stdout",
     "output_type": "stream",
     "text": [
      "Underpants : 6.99\n",
      "Socks : 5.99\n",
      "T-shirt : 14.99\n",
      "Trousers : 31.99\n",
      "Shoes : 23.99\n",
      "Total : 83\n"
     ]
    },
    {
     "data": {
      "text/plain": [
       "undefined"
      ]
     },
     "execution_count": 58,
     "metadata": {},
     "output_type": "execute_result"
    }
   ],
   "source": [
    "var tempSum = 0;\n",
    "for(var key in productObj){\n",
    "    console.log(key+' : '+productObj[key]);\n",
    "    tempSum += productObj[key];\n",
    "}\n",
    "console.log('Total : '+Math.floor(tempSum))"
   ]
  },
  {
   "cell_type": "code",
   "execution_count": 59,
   "metadata": {},
   "outputs": [
    {
     "data": {
      "text/plain": [
       "{ Underpants: 6.99,\n",
       "  Socks: 5.99,\n",
       "  'T-shirt': 14.99,\n",
       "  Trousers: 31.99,\n",
       "  Shoes: 23.99 }"
      ]
     },
     "execution_count": 59,
     "metadata": {},
     "output_type": "execute_result"
    }
   ],
   "source": [
    "productObj"
   ]
  },
  {
   "cell_type": "code",
   "execution_count": 60,
   "metadata": {},
   "outputs": [
    {
     "name": "stdout",
     "output_type": "stream",
     "text": [
      "Underpants 6.99\n",
      "---------\n",
      "Socks 5.99\n",
      "---------\n",
      "T-shirt 14.99\n",
      "---------\n",
      "Trousers 31.99\n",
      "---------\n",
      "Shoes 23.99\n",
      "---------\n"
     ]
    },
    {
     "data": {
      "text/plain": [
       "undefined"
      ]
     },
     "execution_count": 60,
     "metadata": {},
     "output_type": "execute_result"
    }
   ],
   "source": [
    "for(var obj in productObj){\n",
    "    console.log(obj, productObj[obj]);\n",
    "    console.log('---------')\n",
    "}"
   ]
  },
  {
   "cell_type": "code",
   "execution_count": 63,
   "metadata": {},
   "outputs": [
    {
     "data": {
      "text/plain": [
       "-1"
      ]
     },
     "execution_count": 63,
     "metadata": {},
     "output_type": "execute_result"
    }
   ],
   "source": [
    "'bisin'.indexOf('inn')"
   ]
  },
  {
   "cell_type": "markdown",
   "metadata": {},
   "source": [
    "##### only one string is changed in below example using replace"
   ]
  },
  {
   "cell_type": "code",
   "execution_count": 64,
   "metadata": {},
   "outputs": [
    {
     "name": "stdout",
     "output_type": "stream",
     "text": [
      "This is the number and i am liking this string.\n"
     ]
    },
    {
     "data": {
      "text/plain": [
       "undefined"
      ]
     },
     "execution_count": 64,
     "metadata": {},
     "output_type": "execute_result"
    }
   ],
   "source": [
    "var myString = 'This is the string and i am liking this string.'\n",
    "myString = myString.replace('string', 'number');\n",
    "console.log(myString);"
   ]
  },
  {
   "cell_type": "markdown",
   "metadata": {},
   "source": [
    "##### lets change all the contained string using replace"
   ]
  },
  {
   "cell_type": "code",
   "execution_count": 65,
   "metadata": {},
   "outputs": [
    {
     "name": "stdout",
     "output_type": "stream",
     "text": [
      "I am a string. I live in string and i love string with not string.\n"
     ]
    },
    {
     "data": {
      "text/plain": [
       "undefined"
      ]
     },
     "execution_count": 65,
     "metadata": {},
     "output_type": "execute_result"
    }
   ],
   "source": [
    "var myString = \"I am a string. I live in string and i love string with not string.\";\n",
    "myString = myString.replace('/string/', 'number')\n",
    "console.log(myString)"
   ]
  },
  {
   "cell_type": "code",
   "execution_count": 66,
   "metadata": {},
   "outputs": [
    {
     "name": "stdout",
     "output_type": "stream",
     "text": [
      "I am a string. I live in string and i love string with not string.\n"
     ]
    },
    {
     "data": {
      "text/plain": [
       "undefined"
      ]
     },
     "execution_count": 66,
     "metadata": {},
     "output_type": "execute_result"
    }
   ],
   "source": [
    "var myString = \"I am a string. I live in string and i love string with not string.\";\n",
    "myString = myString.replace(/'string'/, 'number')\n",
    "console.log(myString)"
   ]
  },
  {
   "cell_type": "code",
   "execution_count": 67,
   "metadata": {},
   "outputs": [
    {
     "name": "stdout",
     "output_type": "stream",
     "text": [
      "I am a string. I live in string and i love string with not string.\n"
     ]
    },
    {
     "data": {
      "text/plain": [
       "undefined"
      ]
     },
     "execution_count": 67,
     "metadata": {},
     "output_type": "execute_result"
    }
   ],
   "source": [
    "var myString = \"I am a string. I live in string and i love string with not string.\";\n",
    "myString = myString.replace(/'string'/g, 'number')\n",
    "console.log(myString)"
   ]
  },
  {
   "cell_type": "code",
   "execution_count": 68,
   "metadata": {},
   "outputs": [
    {
     "name": "stdout",
     "output_type": "stream",
     "text": [
      "I am a number. I live in string and i love string with not string.\n"
     ]
    },
    {
     "data": {
      "text/plain": [
       "undefined"
      ]
     },
     "execution_count": 68,
     "metadata": {},
     "output_type": "execute_result"
    }
   ],
   "source": [
    "var myString = \"I am a string. I live in string and i love string with not string.\";\n",
    "myString = myString.replace(/string/, 'number')\n",
    "console.log(myString)"
   ]
  },
  {
   "cell_type": "markdown",
   "metadata": {},
   "source": [
    "## string are immutable\n",
    "\n",
    "## Note:  .replace() method doesnot changes the original string but only returns the changed value.so to change the original string we need to reassign the value."
   ]
  },
  {
   "cell_type": "markdown",
   "metadata": {},
   "source": [
    "# # Using text.replace(/stringLiteralwithOutApostrophe/g, 'value to replace')\n",
    "### This methods is used to replace all the string at once"
   ]
  },
  {
   "cell_type": "code",
   "execution_count": 69,
   "metadata": {},
   "outputs": [
    {
     "name": "stdout",
     "output_type": "stream",
     "text": [
      "I am a number. I live in number and i love number with not number.\n"
     ]
    },
    {
     "data": {
      "text/plain": [
       "undefined"
      ]
     },
     "execution_count": 69,
     "metadata": {},
     "output_type": "execute_result"
    }
   ],
   "source": [
    "var myString = \"I am a string. I live in string and i love string with not string.\";\n",
    "myString = myString.replace(/string/g, 'number')\n",
    "console.log(myString)"
   ]
  },
  {
   "cell_type": "code",
   "execution_count": null,
   "metadata": {},
   "outputs": [],
   "source": []
  },
  {
   "cell_type": "code",
   "execution_count": null,
   "metadata": {},
   "outputs": [],
   "source": []
  },
  {
   "cell_type": "code",
   "execution_count": null,
   "metadata": {},
   "outputs": [],
   "source": []
  },
  {
   "cell_type": "code",
   "execution_count": null,
   "metadata": {},
   "outputs": [],
   "source": []
  },
  {
   "cell_type": "code",
   "execution_count": null,
   "metadata": {},
   "outputs": [],
   "source": []
  }
 ],
 "metadata": {
  "kernelspec": {
   "display_name": "Javascript (Node.js)",
   "language": "javascript",
   "name": "javascript"
  },
  "language_info": {
   "file_extension": ".js",
   "mimetype": "application/javascript",
   "name": "javascript",
   "version": "10.13.0"
  }
 },
 "nbformat": 4,
 "nbformat_minor": 2
}
