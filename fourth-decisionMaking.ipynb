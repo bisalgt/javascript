{
 "cells": [
  {
   "cell_type": "code",
   "execution_count": null,
   "metadata": {},
   "outputs": [],
   "source": [
    "if-else"
   ]
  },
  {
   "cell_type": "code",
   "execution_count": null,
   "metadata": {},
   "outputs": [],
   "source": [
    "if-else"
   ]
  },
  {
   "cell_type": "code",
   "execution_count": null,
   "metadata": {},
   "outputs": [],
   "source": [
    "if-else"
   ]
  },
  {
   "cell_type": "code",
   "execution_count": 2,
   "metadata": {},
   "outputs": [
    {
     "name": "stdout",
     "output_type": "stream",
     "text": [
      "Not positive\n"
     ]
    },
    {
     "data": {
      "text/plain": [
       "undefined"
      ]
     },
     "execution_count": 2,
     "metadata": {},
     "output_type": "execute_result"
    }
   ],
   "source": [
    "function testNum(num){\n",
    "    if (num < 0){\n",
    "        return 'Not positive'\n",
    "    } else{\n",
    "        return 'Whole Number'\n",
    "    }\n",
    "}\n",
    "\n",
    "\n",
    "console.log(testNum(-4))"
   ]
  },
  {
   "cell_type": "code",
   "execution_count": 4,
   "metadata": {},
   "outputs": [
    {
     "name": "stdout",
     "output_type": "stream",
     "text": [
      "Positive\n"
     ]
    },
    {
     "data": {
      "text/plain": [
       "undefined"
      ]
     },
     "execution_count": 4,
     "metadata": {},
     "output_type": "execute_result"
    }
   ],
   "source": [
    "function testNum(num){\n",
    "    if (num < 0){\n",
    "        return 'Not positive'\n",
    "    } else if (num === 0){\n",
    "        return 'Zero'\n",
    "    } else {\n",
    "        return 'Positive'\n",
    "    }\n",
    "}\n",
    "\n",
    "\n",
    "console.log(testNum(4))"
   ]
  },
  {
   "cell_type": "code",
   "execution_count": 5,
   "metadata": {},
   "outputs": [
    {
     "name": "stdout",
     "output_type": "stream",
     "text": [
      "Positive\n"
     ]
    },
    {
     "data": {
      "text/plain": [
       "undefined"
      ]
     },
     "execution_count": 5,
     "metadata": {},
     "output_type": "execute_result"
    }
   ],
   "source": [
    "function testNum(num){\n",
    "    if (num < 0){\n",
    "        return 'Not positive'\n",
    "    } else\n",
    "        if (num === 0){\n",
    "            return 'Zero'\n",
    "    } else \n",
    "    {\n",
    "        return 'Positive'\n",
    "    }\n",
    "}\n",
    "\n",
    "\n",
    "console.log(testNum(4))"
   ]
  },
  {
   "cell_type": "raw",
   "metadata": {},
   "source": [
    "To execute multiple statements within a clause, use a block statement ({ ... }) to group those statements. In general, it is a good practice to always use block statements, especially in code involving nested if statements:"
   ]
  },
  {
   "cell_type": "raw",
   "metadata": {},
   "source": [
    "Do not confuse the primitive Boolean values true and false with truthiness or falsiness of the Boolean object. Any value that is not false, undefined, null, 0, -0, NaN, or the empty string (\"\"), and any object, including a Boolean object whose value is false, is considered truthy when used as the condition. For example:\n",
    "\n",
    "var b = new Boolean(false);\n",
    "if (b) // this condition is truthy"
   ]
  },
  {
   "cell_type": "code",
   "execution_count": 6,
   "metadata": {},
   "outputs": [
    {
     "data": {
      "text/plain": [
       "'object'"
      ]
     },
     "execution_count": 6,
     "metadata": {},
     "output_type": "execute_result"
    }
   ],
   "source": [
    "var b = new Boolean(false);\n",
    "typeof b;"
   ]
  },
  {
   "cell_type": "code",
   "execution_count": 6,
   "metadata": {},
   "outputs": [
    {
     "data": {
      "text/plain": [
       "'object'"
      ]
     },
     "execution_count": 6,
     "metadata": {},
     "output_type": "execute_result"
    }
   ],
   "source": [
    "var b = new Boolean(false);\n",
    ";"
   ]
  },
  {
   "cell_type": "code",
   "execution_count": 7,
   "metadata": {},
   "outputs": [
    {
     "name": "stdout",
     "output_type": "stream",
     "text": [
      "true if\n"
     ]
    },
    {
     "data": {
      "text/plain": [
       "undefined"
      ]
     },
     "execution_count": 7,
     "metadata": {},
     "output_type": "execute_result"
    }
   ],
   "source": [
    "if(b){\n",
    "    console.log('true if')\n",
    "}"
   ]
  },
  {
   "cell_type": "code",
   "execution_count": 8,
   "metadata": {},
   "outputs": [
    {
     "data": {
      "text/plain": [
       "undefined"
      ]
     },
     "execution_count": 8,
     "metadata": {},
     "output_type": "execute_result"
    }
   ],
   "source": [
    "var c = new Number(2);"
   ]
  },
  {
   "cell_type": "code",
   "execution_count": 9,
   "metadata": {},
   "outputs": [
    {
     "name": "stdout",
     "output_type": "stream",
     "text": [
      "[Number: 2]\n"
     ]
    },
    {
     "data": {
      "text/plain": [
       "undefined"
      ]
     },
     "execution_count": 9,
     "metadata": {},
     "output_type": "execute_result"
    }
   ],
   "source": [
    "if (c){\n",
    "    console.log(c)\n",
    "}"
   ]
  },
  {
   "cell_type": "code",
   "execution_count": 11,
   "metadata": {},
   "outputs": [
    {
     "data": {
      "text/plain": [
       "undefined"
      ]
     },
     "execution_count": 11,
     "metadata": {},
     "output_type": "execute_result"
    }
   ],
   "source": [
    "var numCheck;\n",
    "if (numCheck){ // doesnot runs because numCheck is undefined;\n",
    "    console.log('Any value that is not false, undefined, null, 0, -0, NaN, or the empty string (\"\"), and any object');\n",
    "}"
   ]
  },
  {
   "cell_type": "raw",
   "metadata": {},
   "source": [
    "It is advisable to not use simple assignments in a conditional expression, because the assignment can be confused with equality when glancing over the code. For example, do not use the following code:\n",
    "\n",
    "if (x = y) {\n",
    "  /* do the right thing */\n",
    "}\n",
    "If you need to use an assignment in a conditional expression, a common practice is to put additional parentheses around the assignment. For example:\n",
    "\n",
    "if ((x = y)) {\n",
    "  /* do the right thing */\n",
    "}"
   ]
  },
  {
   "cell_type": "raw",
   "metadata": {},
   "source": [
    "Assignment operator in if clause results true;"
   ]
  },
  {
   "cell_type": "code",
   "execution_count": 12,
   "metadata": {},
   "outputs": [
    {
     "name": "stdout",
     "output_type": "stream",
     "text": [
      "wrong way to use conditional check\n"
     ]
    },
    {
     "data": {
      "text/plain": [
       "undefined"
      ]
     },
     "execution_count": 12,
     "metadata": {},
     "output_type": "execute_result"
    }
   ],
   "source": [
    "if (a = 10){\n",
    "    console.log('wrong way to use conditional check');\n",
    "}"
   ]
  },
  {
   "cell_type": "code",
   "execution_count": 13,
   "metadata": {},
   "outputs": [
    {
     "name": "stdout",
     "output_type": "stream",
     "text": [
      "what it does as it it good practice\n"
     ]
    },
    {
     "data": {
      "text/plain": [
       "undefined"
      ]
     },
     "execution_count": 13,
     "metadata": {},
     "output_type": "execute_result"
    }
   ],
   "source": [
    "if((v1=13)){\n",
    "    console.log('what it does as it it good practice')\n",
    "}"
   ]
  },
  {
   "cell_type": "markdown",
   "metadata": {},
   "source": [
    "#### Else is not mandatory\n",
    "You should note that you don't have to include the else and the second curly brace block — the following is also perfectly legal code:\n",
    "\n",
    "if (condition) {\n",
    "  code to run if condition is true\n",
    "}\n",
    "\n",
    "run some other code"
   ]
  },
  {
   "cell_type": "raw",
   "metadata": {},
   "source": [
    "if (condition) code to run if condition is true\n",
    "else run some other code instead\n",
    "This is perfectly valid code, but using it is not recommended — it is much easier to read the code and work out what is going on if you use the curly braces to delimit the blocks of code, and use multiple lines and indentation."
   ]
  },
  {
   "cell_type": "raw",
   "metadata": {},
   "source": [
    " Any value that is not false, undefined, null, 0, NaN, or an empty string ('') actually returns true when tested as a conditional statement, therefore you can simply use a variable name on its own to test whether it is true, or even that it exists (that is, it is not undefined.) So for example:\n",
    "\n"
   ]
  },
  {
   "cell_type": "code",
   "execution_count": 15,
   "metadata": {},
   "outputs": [
    {
     "name": "stdout",
     "output_type": "stream",
     "text": [
      "Yay! Cheese available for making cheese on toast.\n"
     ]
    },
    {
     "data": {
      "text/plain": [
       "undefined"
      ]
     },
     "execution_count": 15,
     "metadata": {},
     "output_type": "execute_result"
    }
   ],
   "source": [
    "let cheese = 'Cheddar';\n",
    "\n",
    "if (cheese) {\n",
    "  console.log('Yay! Cheese available for making cheese on toast.');\n",
    "} else {\n",
    "  console.log('No cheese on toast for you today.');\n",
    "}"
   ]
  },
  {
   "cell_type": "markdown",
   "metadata": {},
   "source": [
    "# Logical AND (&&)\texpr1 && expr2\tIf expr1 can be converted to true, returns expr2; else, returns expr1.\n",
    "# Logical OR (||)\texpr1 || expr2\tIf expr1 can be converted to true, returns expr1; else, returns expr2.\n",
    "# Logical NOT (!)\t!expr\tReturns false if its single operand can be converted to true; otherwise, returns true."
   ]
  },
  {
   "cell_type": "markdown",
   "metadata": {},
   "source": [
    "# Short circuit evaluation"
   ]
  },
  {
   "cell_type": "raw",
   "metadata": {},
   "source": [
    "As logical expressions are evaluated left to right, they are tested for possible \"short-circuit\" evaluation using the following rules:\n",
    "\n",
    "(some falsy expression) && expr is short-circuit evaluated to the falsy expression;\n",
    "(some truthy expression) || expr is short-circuit evaluated to the truthy expression.\n",
    "Short circuit means that the expr parts above are not evaluated, hence any side effects of doing so do not take effect (e.g., if expr is a function call, the calling never takes place). This happens because the value of the operator is already determined after the evaluation of the first operand. "
   ]
  },
  {
   "cell_type": "code",
   "execution_count": 16,
   "metadata": {},
   "outputs": [
    {
     "data": {
      "text/plain": [
       "undefined"
      ]
     },
     "execution_count": 16,
     "metadata": {},
     "output_type": "execute_result"
    }
   ],
   "source": [
    "function test(){ // doesnot runs\n",
    "    console.log('Test function called');\n",
    "}\n",
    "if(false && test){ // doesnot runs test func as logical And with false and anything is false so no need to check extra \n",
    "    console.log('both runs and is true')\n",
    "}"
   ]
  },
  {
   "cell_type": "code",
   "execution_count": 19,
   "metadata": {},
   "outputs": [
    {
     "name": "stdout",
     "output_type": "stream",
     "text": [
      "Test function called\n",
      "if clause is wrong\n",
      "undefined\n"
     ]
    },
    {
     "data": {
      "text/plain": [
       "undefined"
      ]
     },
     "execution_count": 19,
     "metadata": {},
     "output_type": "execute_result"
    }
   ],
   "source": [
    "function test(){ // doesnot runs\n",
    "    console.log('Test function called');\n",
    "}\n",
    "if(true && test()){ // no return of test() function so returns undefined by default and true && undefined == false so if doesnot executes\n",
    "    console.log('both runs and is true')\n",
    "} else{\n",
    "    console.log('if clause is wrong')\n",
    "}\n",
    "console.log(true && undefined)"
   ]
  },
  {
   "cell_type": "markdown",
   "metadata": {},
   "source": [
    "# Operator precedence"
   ]
  },
  {
   "cell_type": "raw",
   "metadata": {},
   "source": [
    "Operator precedence\n",
    "The following expressions might seem equivalent, but they are not, because the && operator is executed before the || operator (see operator precedence).\n",
    "\n",
    "true || false && false      // returns true, because && is executed first\n",
    "(true || false) && false    // returns false, because operator precedence cannot apply"
   ]
  },
  {
   "cell_type": "markdown",
   "metadata": {},
   "source": [
    "# Double NOT (!!)``"
   ]
  },
  {
   "cell_type": "code",
   "execution_count": 20,
   "metadata": {},
   "outputs": [
    {
     "data": {
      "text/plain": [
       "true"
      ]
     },
     "execution_count": 20,
     "metadata": {},
     "output_type": "execute_result"
    }
   ],
   "source": [
    "!!true"
   ]
  },
  {
   "cell_type": "code",
   "execution_count": 21,
   "metadata": {},
   "outputs": [
    {
     "data": {
      "text/plain": [
       "true"
      ]
     },
     "execution_count": 21,
     "metadata": {},
     "output_type": "execute_result"
    }
   ],
   "source": [
    "!!!false"
   ]
  },
  {
   "cell_type": "raw",
   "metadata": {},
   "source": [
    "It is possible to use a couple of NOT operators in series to explicitly force the conversion of any value to the corresponding boolean primitive"
   ]
  },
  {
   "cell_type": "raw",
   "metadata": {},
   "source": [
    "&& — AND; allows you to chain together two or more expressions so that all of them have to individually evaluate to true for the whole expression to return true.\n",
    "|| — OR; allows you to chain together two or more expressions so that one or more of them have to individually evaluate to true for the whole expression to return true."
   ]
  },
  {
   "cell_type": "raw",
   "metadata": {},
   "source": [
    " common mistake when using the logical OR operator in conditional statements is to try to state the variable whose value you are checking once, and then give a list of values it could be to return true, separated by || (OR) operators. For example:\n",
    "\n",
    "if (x === 5 || 7 || 10 || 20) {\n",
    "  // run my code\n",
    "}"
   ]
  },
  {
   "cell_type": "code",
   "execution_count": 22,
   "metadata": {},
   "outputs": [
    {
     "data": {
      "text/plain": [
       "true"
      ]
     },
     "execution_count": 22,
     "metadata": {},
     "output_type": "execute_result"
    }
   ],
   "source": [
    "false || true && true"
   ]
  },
  {
   "cell_type": "code",
   "execution_count": 23,
   "metadata": {},
   "outputs": [
    {
     "data": {
      "text/plain": [
       "false"
      ]
     },
     "execution_count": 23,
     "metadata": {},
     "output_type": "execute_result"
    }
   ],
   "source": [
    "false || true && false"
   ]
  },
  {
   "cell_type": "code",
   "execution_count": 24,
   "metadata": {},
   "outputs": [
    {
     "data": {
      "text/plain": [
       "false"
      ]
     },
     "execution_count": 24,
     "metadata": {},
     "output_type": "execute_result"
    }
   ],
   "source": [
    "false && true || false"
   ]
  },
  {
   "cell_type": "code",
   "execution_count": null,
   "metadata": {},
   "outputs": [],
   "source": []
  },
  {
   "cell_type": "code",
   "execution_count": null,
   "metadata": {},
   "outputs": [],
   "source": []
  },
  {
   "cell_type": "code",
   "execution_count": null,
   "metadata": {},
   "outputs": [],
   "source": []
  },
  {
   "cell_type": "code",
   "execution_count": null,
   "metadata": {},
   "outputs": [],
   "source": []
  },
  {
   "cell_type": "code",
   "execution_count": null,
   "metadata": {},
   "outputs": [],
   "source": []
  },
  {
   "cell_type": "code",
   "execution_count": null,
   "metadata": {},
   "outputs": [],
   "source": []
  },
  {
   "cell_type": "code",
   "execution_count": null,
   "metadata": {},
   "outputs": [],
   "source": []
  },
  {
   "cell_type": "code",
   "execution_count": null,
   "metadata": {},
   "outputs": [],
   "source": []
  },
  {
   "cell_type": "code",
   "execution_count": null,
   "metadata": {},
   "outputs": [],
   "source": []
  },
  {
   "cell_type": "code",
   "execution_count": null,
   "metadata": {},
   "outputs": [],
   "source": []
  },
  {
   "cell_type": "code",
   "execution_count": null,
   "metadata": {},
   "outputs": [],
   "source": []
  },
  {
   "cell_type": "code",
   "execution_count": null,
   "metadata": {},
   "outputs": [],
   "source": []
  },
  {
   "cell_type": "code",
   "execution_count": null,
   "metadata": {},
   "outputs": [],
   "source": []
  },
  {
   "cell_type": "code",
   "execution_count": null,
   "metadata": {},
   "outputs": [],
   "source": []
  },
  {
   "cell_type": "code",
   "execution_count": null,
   "metadata": {},
   "outputs": [],
   "source": []
  }
 ],
 "metadata": {
  "kernelspec": {
   "display_name": "Javascript (Node.js)",
   "language": "javascript",
   "name": "javascript"
  },
  "language_info": {
   "file_extension": ".js",
   "mimetype": "application/javascript",
   "name": "javascript",
   "version": "10.13.0"
  }
 },
 "nbformat": 4,
 "nbformat_minor": 2
}
