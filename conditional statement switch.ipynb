{
 "cells": [
  {
   "cell_type": "markdown",
   "metadata": {},
   "source": [
    "# Switch statement"
   ]
  },
  {
   "cell_type": "raw",
   "metadata": {},
   "source": [
    "switch statements are your friend — they take a single expression/value as an input, and then look through a number of choices until they find one that matches that value, executing the corresponding code that goes along with it. Here's some more pseudocode, to give you an idea:\n",
    "\n",
    "switch (expression) {\n",
    "  case choice1:\n",
    "    run this code\n",
    "    break;\n",
    "\n",
    "  case choice2:\n",
    "    run this code instead\n",
    "    break;\n",
    "    \n",
    "  // include as many cases as you like\n",
    "\n",
    "  default:\n",
    "    actually, just run this code\n",
    "}"
   ]
  },
  {
   "cell_type": "code",
   "execution_count": 2,
   "metadata": {},
   "outputs": [
    {
     "name": "stdout",
     "output_type": "stream",
     "text": [
      "We have apple\n"
     ]
    },
    {
     "data": {
      "text/plain": [
       "undefined"
      ]
     },
     "execution_count": 2,
     "metadata": {},
     "output_type": "execute_result"
    }
   ],
   "source": [
    "var expr = 'apple';\n",
    "switch (expr){\n",
    "    case 'orange':\n",
    "        console.log('we have orange');\n",
    "        break;\n",
    "    case 'banana':\n",
    "        console.log('We have banana');\n",
    "    case 'apple':\n",
    "        console.log('We have apple');\n",
    "        break;\n",
    "    default:\n",
    "        console.log('Sorry we couldnot find '+expr);\n",
    "}"
   ]
  },
  {
   "cell_type": "code",
   "execution_count": 3,
   "metadata": {},
   "outputs": [
    {
     "name": "stdout",
     "output_type": "stream",
     "text": [
      "We have banana\n"
     ]
    },
    {
     "data": {
      "text/plain": [
       "undefined"
      ]
     },
     "execution_count": 3,
     "metadata": {},
     "output_type": "execute_result"
    }
   ],
   "source": [
    "var expr = 'apple';\n",
    "switch (expr){\n",
    "    case 'orange':\n",
    "        console.log('we have orange');\n",
    "        break;\n",
    "    case 'apple':\n",
    "        console.log('We have banana');\n",
    "        break;\n",
    "    case 'apple':\n",
    "        console.log('We have apple');\n",
    "        break;\n",
    "    default:\n",
    "        console.log('Sorry we couldnot find '+expr);\n",
    "}"
   ]
  },
  {
   "cell_type": "code",
   "execution_count": 13,
   "metadata": {},
   "outputs": [
    {
     "name": "stdout",
     "output_type": "stream",
     "text": [
      "We have apple\n",
      "We have banana\n",
      "Sorry we couldnot find apple\n"
     ]
    },
    {
     "data": {
      "text/plain": [
       "undefined"
      ]
     },
     "execution_count": 13,
     "metadata": {},
     "output_type": "execute_result"
    }
   ],
   "source": [
    "var expr = 'apple';\n",
    "switch (expr){\n",
    "    case 'orange':\n",
    "        console.log('we have orange');\n",
    "        break;\n",
    "    case 'apple':\n",
    "        console.log('We have apple');\n",
    "    case 'banana':\n",
    "        console.log('We have banana');\n",
    "        \n",
    "    default:\n",
    "        console.log('Sorry we couldnot find '+expr);\n",
    "}"
   ]
  },
  {
   "cell_type": "code",
   "execution_count": 7,
   "metadata": {},
   "outputs": [
    {
     "ename": "SyntaxError",
     "evalue": "Unexpected identifier",
     "output_type": "error",
     "traceback": [
      "evalmachine.<anonymous>:3",
      "switch expr{",
      "       ^^^^",
      "",
      "SyntaxError: Unexpected identifier",
      "    at new Script (vm.js:79:7)",
      "    at createScript (vm.js:251:10)",
      "    at Object.runInThisContext (vm.js:303:10)",
      "    at run ([eval]:1054:15)",
      "    at onRunRequest ([eval]:888:18)",
      "    at onMessage ([eval]:848:13)",
      "    at process.emit (events.js:182:13)",
      "    at emit (internal/child_process.js:812:12)",
      "    at process._tickCallback (internal/process/next_tick.js:63:19)"
     ]
    }
   ],
   "source": [
    "var expr = 'ram';\n",
    "\n",
    "switch expr{\n",
    "    case ram:\n",
    "        console.log('hello ram');\n",
    "        break;\n",
    "}"
   ]
  },
  {
   "cell_type": "code",
   "execution_count": 8,
   "metadata": {},
   "outputs": [
    {
     "ename": "ReferenceError",
     "evalue": "ram is not defined",
     "output_type": "error",
     "traceback": [
      "evalmachine.<anonymous>:4",
      "    case ram:",
      "         ^",
      "",
      "ReferenceError: ram is not defined",
      "    at evalmachine.<anonymous>:4:10",
      "    at Script.runInThisContext (vm.js:96:20)",
      "    at Object.runInThisContext (vm.js:303:38)",
      "    at run ([eval]:1054:15)",
      "    at onRunRequest ([eval]:888:18)",
      "    at onMessage ([eval]:848:13)",
      "    at process.emit (events.js:182:13)",
      "    at emit (internal/child_process.js:812:12)",
      "    at process._tickCallback (internal/process/next_tick.js:63:19)"
     ]
    }
   ],
   "source": [
    "var expr = 'ram';\n",
    "\n",
    "switch (expr){\n",
    "    case ram:\n",
    "        console.log('hello ram');\n",
    "        break;\n",
    "}"
   ]
  },
  {
   "cell_type": "code",
   "execution_count": 9,
   "metadata": {},
   "outputs": [
    {
     "name": "stdout",
     "output_type": "stream",
     "text": [
      "hello ram\n"
     ]
    },
    {
     "data": {
      "text/plain": [
       "undefined"
      ]
     },
     "execution_count": 9,
     "metadata": {},
     "output_type": "execute_result"
    }
   ],
   "source": [
    "var expr = 'ram';\n",
    "\n",
    "switch (expr){\n",
    "    case 'ram':\n",
    "        console.log('hello ram');\n",
    "        break;\n",
    "}"
   ]
  },
  {
   "cell_type": "code",
   "execution_count": 12,
   "metadata": {},
   "outputs": [
    {
     "data": {
      "text/plain": [
       "undefined"
      ]
     },
     "execution_count": 12,
     "metadata": {},
     "output_type": "execute_result"
    }
   ],
   "source": [
    "var expr = 'ram';\n",
    "\n",
    "switch (expr){\n",
    "    case 'shyam':\n",
    "        console.log('hello ram');\n",
    "        break;\n",
    "}"
   ]
  },
  {
   "cell_type": "markdown",
   "metadata": {},
   "source": [
    "#### A case clause used to match against expression. If the expression matches the specified valueN, the statements inside the case clause are executed until either the end of the switch statement or a break."
   ]
  },
  {
   "cell_type": "raw",
   "metadata": {},
   "source": [
    "expression\n",
    "An expression whose result is matched against each case clause.\n",
    "case valueN Optional\n",
    "A case clause used to match against expression. If the expression matches the specified valueN, the statements inside the case clause are executed until either the end of the switch statement or a break.\n",
    "default Optional\n",
    "A default clause; if provided, this clause is executed if the value of expression doesn't match any of the case clauses."
   ]
  },
  {
   "cell_type": "markdown",
   "metadata": {},
   "source": [
    "### (If multiple cases match the provided value, the first case that matches is selected, even if the cases are not equal to each other.)"
   ]
  },
  {
   "cell_type": "markdown",
   "metadata": {},
   "source": [
    "### By convention, the default clause is the last clause, but it does not need to be so"
   ]
  },
  {
   "cell_type": "markdown",
   "metadata": {},
   "source": [
    "#### The optional break statement associated with each case label ensures that the program breaks out of switch once the matched statement is executed and continues execution at the statement following switch. If break is omitted, the program continues execution at the next statement in the switch statement."
   ]
  },
  {
   "cell_type": "markdown",
   "metadata": {},
   "source": [
    "# When break is encountered, the program breaks out of switch and executes the statement following switch. "
   ]
  },
  {
   "cell_type": "markdown",
   "metadata": {},
   "source": [
    "### Can I put a default between cases?\n",
    "Yes, you can! JavaScript will drop you back to the default if it can't find a match:"
   ]
  },
  {
   "cell_type": "code",
   "execution_count": 14,
   "metadata": {},
   "outputs": [
    {
     "name": "stdout",
     "output_type": "stream",
     "text": [
      "One is matched\n"
     ]
    },
    {
     "data": {
      "text/plain": [
       "undefined"
      ]
     },
     "execution_count": 14,
     "metadata": {},
     "output_type": "execute_result"
    }
   ],
   "source": [
    "var aVal = 1;\n",
    "switch (aVal){\n",
    "    case -1:\n",
    "        console.log('Negative One');\n",
    "        break;\n",
    "    default:\n",
    "        console.log('Sorry No match');\n",
    "        break;\n",
    "    case 0:\n",
    "        console.log('humm Zero');\n",
    "        break;\n",
    "    case 1:\n",
    "        console.log('One is matched');\n",
    "}"
   ]
  },
  {
   "cell_type": "code",
   "execution_count": 17,
   "metadata": {},
   "outputs": [
    {
     "name": "stdout",
     "output_type": "stream",
     "text": [
      "Sorry No match\n",
      "humm Zero\n"
     ]
    },
    {
     "data": {
      "text/plain": [
       "undefined"
      ]
     },
     "execution_count": 17,
     "metadata": {},
     "output_type": "execute_result"
    }
   ],
   "source": [
    "var aVal = 1;\n",
    "switch (aVal){\n",
    "    case -1:\n",
    "        console.log('Negative One');\n",
    "        break;\n",
    "    default:\n",
    "        console.log('Sorry No match');\n",
    "    case 0:\n",
    "        console.log('humm Zero');\n",
    "        break;\n",
    "    case 11:\n",
    "        console.log('One is matched');\n",
    "        break;\n",
    "}"
   ]
  },
  {
   "cell_type": "markdown",
   "metadata": {},
   "source": [
    "### Methods for multi-criteria case"
   ]
  },
  {
   "cell_type": "code",
   "execution_count": 22,
   "metadata": {},
   "outputs": [
    {
     "name": "stdout",
     "output_type": "stream",
     "text": [
      "Default case\n"
     ]
    },
    {
     "data": {
      "text/plain": [
       "undefined"
      ]
     },
     "execution_count": 22,
     "metadata": {},
     "output_type": "execute_result"
    }
   ],
   "source": [
    "var varName = '\"afshin\", \"bishal\"';\n",
    "\n",
    "switch (varName)\n",
    "{\n",
    "   case \"afshin\":\n",
    "   case \"saeed\":\n",
    "   case \"larry\": \n",
    "       console.log('Hey');\n",
    "       break;\n",
    "\n",
    "   default: \n",
    "      console.log('Default case');\n",
    "}"
   ]
  },
  {
   "cell_type": "code",
   "execution_count": 23,
   "metadata": {},
   "outputs": [
    {
     "name": "stdout",
     "output_type": "stream",
     "text": [
      "Default case\n"
     ]
    },
    {
     "data": {
      "text/plain": [
       "undefined"
      ]
     },
     "execution_count": 23,
     "metadata": {},
     "output_type": "execute_result"
    }
   ],
   "source": [
    "var varName = '\"afshin\", \"saeed\", \"larry\"';\n",
    "\n",
    "switch (varName)\n",
    "{\n",
    "   case \"afshin\":\n",
    "   case \"saeed\":\n",
    "   case \"larry\": \n",
    "       console.log('Hey');\n",
    "       break;\n",
    "\n",
    "   default: \n",
    "      console.log('Default case');\n",
    "}"
   ]
  },
  {
   "cell_type": "code",
   "execution_count": 24,
   "metadata": {},
   "outputs": [
    {
     "name": "stdout",
     "output_type": "stream",
     "text": [
      "Hey\n"
     ]
    },
    {
     "data": {
      "text/plain": [
       "undefined"
      ]
     },
     "execution_count": 24,
     "metadata": {},
     "output_type": "execute_result"
    }
   ],
   "source": [
    "var varName = \"afshin\";\n",
    "\n",
    "switch (varName)\n",
    "{\n",
    "   case \"afshin\": // case 1: case 2: case 3:\n",
    "   case \"saeed\":\n",
    "   case \"larry\": \n",
    "       console.log('Hey');\n",
    "       break;\n",
    "\n",
    "   default: \n",
    "      console.log('Default case');\n",
    "}"
   ]
  },
  {
   "cell_type": "raw",
   "metadata": {},
   "source": [
    "const action = 'say_hello';\n",
    "switch (action) {\n",
    "  case 'say_hello':\n",
    "    let message = 'hello';\n",
    "    console.log(message);\n",
    "    break;\n",
    "  case 'say_hi':\n",
    "    let message = 'hi';\n",
    "    console.log(message);\n",
    "    break;\n",
    "  default:\n",
    "    console.log('Empty action received.');\n",
    "    break;\n",
    "}\n",
    "This example will output the error Uncaught SyntaxError: Identifier 'message' has already been declared which you were not probably expecting.\n",
    "\n",
    "This is because the first let message = 'hello'; conflicts with second let statement let message = 'hi'; even they're within their own separate case statements case 'say_hello': and case 'say_hi':; ultimately this is due to both let statements being interpreted as duplicate declarations of the same variable name within the same block scope.\n",
    "\n",
    "We can easily fix this by wrapping our case statements with brackets:\n",
    "\n",
    "const action = 'say_hello';\n",
    "switch (action) {\n",
    "  case 'say_hello': { // added brackets\n",
    "    let message = 'hello';\n",
    "    console.log(message);\n",
    "    break;\n",
    "  } // added brackets\n",
    "  case 'say_hi': { // added brackets\n",
    "    let message = 'hi';\n",
    "    console.log(message);\n",
    "    break;\n",
    "  } // added brackets\n",
    "  default: { // added brackets\n",
    "    console.log('Empty action received.');\n",
    "    break;\n",
    "  } // added brackets\n",
    "}\n",
    "This code will now output hello in the console as it should, without any errors at all."
   ]
  },
  {
   "cell_type": "code",
   "execution_count": 25,
   "metadata": {},
   "outputs": [
    {
     "ename": "SyntaxError",
     "evalue": "Identifier 'name' has already been declared",
     "output_type": "error",
     "traceback": [
      "evalmachine.<anonymous>:8",
      "        let name = 'gautam';",
      "            ^",
      "",
      "SyntaxError: Identifier 'name' has already been declared",
      "    at new Script (vm.js:79:7)",
      "    at createScript (vm.js:251:10)",
      "    at Object.runInThisContext (vm.js:303:10)",
      "    at run ([eval]:1054:15)",
      "    at onRunRequest ([eval]:888:18)",
      "    at onMessage ([eval]:848:13)",
      "    at process.emit (events.js:182:13)",
      "    at emit (internal/child_process.js:812:12)",
      "    at process._tickCallback (internal/process/next_tick.js:63:19)"
     ]
    }
   ],
   "source": [
    "var expr = 'foo'\n",
    "switch (expr){\n",
    "    case 'foo':\n",
    "        let name = 'bishal';\n",
    "        console.log(expr+name);\n",
    "        break;\n",
    "    case 'bar':\n",
    "        let name = 'gautam';\n",
    "        console.log(expr+name);\n",
    "        break;\n",
    "    default:\n",
    "        console.log('Default statement');\n",
    "        break\n",
    "}"
   ]
  },
  {
   "cell_type": "code",
   "execution_count": 27,
   "metadata": {},
   "outputs": [
    {
     "name": "stdout",
     "output_type": "stream",
     "text": [
      "foobishal\n"
     ]
    },
    {
     "data": {
      "text/plain": [
       "undefined"
      ]
     },
     "execution_count": 27,
     "metadata": {},
     "output_type": "execute_result"
    }
   ],
   "source": [
    "\n",
    "var expr = 'foo'\n",
    "switch (expr){\n",
    "    case 'foo': {\n",
    "        let name = 'bishal';\n",
    "        console.log(expr+name);\n",
    "        break;\n",
    "    }\n",
    "        \n",
    "    case 'bar':\n",
    "        {let name = 'gautam';\n",
    "        console.log(expr+name);\n",
    "        break;}\n",
    "    default:{\n",
    "        console.log('Default statement');\n",
    "        break}\n",
    "}\n"
   ]
  },
  {
   "cell_type": "code",
   "execution_count": 28,
   "metadata": {},
   "outputs": [
    {
     "ename": "ReferenceError",
     "evalue": "age is not defined",
     "output_type": "error",
     "traceback": [
      "evalmachine.<anonymous>:1",
      "console.log(age); // to check if hoisting in let",
      "            ^",
      "",
      "ReferenceError: age is not defined",
      "    at evalmachine.<anonymous>:1:13",
      "    at Script.runInThisContext (vm.js:96:20)",
      "    at Object.runInThisContext (vm.js:303:38)",
      "    at run ([eval]:1054:15)",
      "    at onRunRequest ([eval]:888:18)",
      "    at onMessage ([eval]:848:13)",
      "    at process.emit (events.js:182:13)",
      "    at emit (internal/child_process.js:812:12)",
      "    at process._tickCallback (internal/process/next_tick.js:63:19)"
     ]
    }
   ],
   "source": [
    "console.log(age); // to check if hoisting in let\n",
    "var expr = 'foo'\n",
    "switch (expr){\n",
    "    case 'foo': {\n",
    "        let name = 'bishal';\n",
    "        console.log(expr+name);\n",
    "        break;\n",
    "    }\n",
    "        \n",
    "    case 'bar':\n",
    "        {let name = 'gautam';\n",
    "        console.log(expr+name);\n",
    "        break;}\n",
    "    default:{\n",
    "        console.log('Default statement');\n",
    "        break}\n",
    "}\n",
    "let age = 2;"
   ]
  },
  {
   "cell_type": "raw",
   "metadata": {},
   "source": [
    "The conditional (ternary) operator is the only JavaScript operator that takes three operands: a condition followed by a question mark (?), then an expression to execute if the condition is truthy followed by a colon (:), and finally the expression to execute if the condition is falsy. This operator is frequently used as a shortcut for the if statement."
   ]
  },
  {
   "cell_type": "markdown",
   "metadata": {},
   "source": [
    "## Ternary operator"
   ]
  },
  {
   "cell_type": "code",
   "execution_count": 29,
   "metadata": {},
   "outputs": [
    {
     "name": "stdout",
     "output_type": "stream",
     "text": [
      "a is not greater than b\n"
     ]
    },
    {
     "data": {
      "text/plain": [
       "undefined"
      ]
     },
     "execution_count": 29,
     "metadata": {},
     "output_type": "execute_result"
    }
   ],
   "source": [
    "var a = 10;\n",
    "var b = 20;\n",
    "a > b ? console.log('a greater than b') : console.log('a is not greater than b');"
   ]
  },
  {
   "cell_type": "markdown",
   "metadata": {},
   "source": [
    "### Syntax\n",
    "#### condition ? exprIfTrue : exprIfFalse"
   ]
  },
  {
   "cell_type": "markdown",
   "metadata": {},
   "source": [
    "## Conditional chains"
   ]
  },
  {
   "cell_type": "markdown",
   "metadata": {},
   "source": [
    "Conditional chains\n",
    "The ternary operator is right-associative, which means it can be \"chained\" in the following way, similar to an if … else if … else if … else chain:\n",
    "\n",
    "function example(…) {\n",
    "    return condition1 ? value1\n",
    "         : condition2 ? value2\n",
    "         : condition3 ? value3\n",
    "         : value4;\n",
    "}\n",
    "\n",
    "// Equivalent to:\n",
    "\n",
    "function example(…) {\n",
    "    if (condition1) { return value1; }\n",
    "    else if (condition2) { return value2; }\n",
    "    else if (condition3) { return value3; }\n",
    "    else { return value4; }\n",
    "}"
   ]
  },
  {
   "cell_type": "code",
   "execution_count": 34,
   "metadata": {},
   "outputs": [
    {
     "data": {
      "text/plain": [
       "'One'"
      ]
     },
     "execution_count": 34,
     "metadata": {},
     "output_type": "execute_result"
    }
   ],
   "source": [
    "\n",
    "function example(a){\n",
    "    return a===1?'One'\n",
    "         : a===2? 'Two'\n",
    "        : a == 3? 'Three'\n",
    "        : 'Not found';\n",
    "}\n",
    "example(1)"
   ]
  },
  {
   "cell_type": "code",
   "execution_count": 35,
   "metadata": {},
   "outputs": [
    {
     "data": {
      "text/plain": [
       "'Three'"
      ]
     },
     "execution_count": 35,
     "metadata": {},
     "output_type": "execute_result"
    }
   ],
   "source": [
    "example(3)"
   ]
  },
  {
   "cell_type": "code",
   "execution_count": 36,
   "metadata": {},
   "outputs": [
    {
     "data": {
      "text/plain": [
       "'Not found'"
      ]
     },
     "execution_count": 36,
     "metadata": {},
     "output_type": "execute_result"
    }
   ],
   "source": [
    "example(5)"
   ]
  },
  {
   "cell_type": "code",
   "execution_count": 37,
   "metadata": {},
   "outputs": [
    {
     "data": {
      "text/plain": [
       "[]"
      ]
     },
     "execution_count": 37,
     "metadata": {},
     "output_type": "execute_result"
    }
   ],
   "source": [
    "var date = new Date();\n",
    "Object.getOwnPropertyNames(date)"
   ]
  },
  {
   "cell_type": "code",
   "execution_count": 38,
   "metadata": {},
   "outputs": [
    {
     "data": {
      "text/plain": [
       "[ 'constructor',\n",
       "  'toString',\n",
       "  'toDateString',\n",
       "  'toTimeString',\n",
       "  'toISOString',\n",
       "  'toUTCString',\n",
       "  'toGMTString',\n",
       "  'getDate',\n",
       "  'setDate',\n",
       "  'getDay',\n",
       "  'getFullYear',\n",
       "  'setFullYear',\n",
       "  'getHours',\n",
       "  'setHours',\n",
       "  'getMilliseconds',\n",
       "  'setMilliseconds',\n",
       "  'getMinutes',\n",
       "  'setMinutes',\n",
       "  'getMonth',\n",
       "  'setMonth',\n",
       "  'getSeconds',\n",
       "  'setSeconds',\n",
       "  'getTime',\n",
       "  'setTime',\n",
       "  'getTimezoneOffset',\n",
       "  'getUTCDate',\n",
       "  'setUTCDate',\n",
       "  'getUTCDay',\n",
       "  'getUTCFullYear',\n",
       "  'setUTCFullYear',\n",
       "  'getUTCHours',\n",
       "  'setUTCHours',\n",
       "  'getUTCMilliseconds',\n",
       "  'setUTCMilliseconds',\n",
       "  'getUTCMinutes',\n",
       "  'setUTCMinutes',\n",
       "  'getUTCMonth',\n",
       "  'setUTCMonth',\n",
       "  'getUTCSeconds',\n",
       "  'setUTCSeconds',\n",
       "  'valueOf',\n",
       "  'getYear',\n",
       "  'setYear',\n",
       "  'toJSON',\n",
       "  'toLocaleString',\n",
       "  'toLocaleDateString',\n",
       "  'toLocaleTimeString' ]"
      ]
     },
     "execution_count": 38,
     "metadata": {},
     "output_type": "execute_result"
    }
   ],
   "source": [
    "Object.getOwnPropertyNames(Date.prototype)"
   ]
  },
  {
   "cell_type": "code",
   "execution_count": 39,
   "metadata": {},
   "outputs": [
    {
     "data": {
      "text/plain": [
       "11"
      ]
     },
     "execution_count": 39,
     "metadata": {},
     "output_type": "execute_result"
    }
   ],
   "source": [
    "date.getMonth()"
   ]
  },
  {
   "cell_type": "code",
   "execution_count": 40,
   "metadata": {},
   "outputs": [
    {
     "data": {
      "text/plain": [
       "2019-12-31T02:35:38.779Z"
      ]
     },
     "execution_count": 40,
     "metadata": {},
     "output_type": "execute_result"
    }
   ],
   "source": [
    "date"
   ]
  },
  {
   "cell_type": "code",
   "execution_count": 41,
   "metadata": {},
   "outputs": [
    {
     "data": {
      "text/plain": [
       "31"
      ]
     },
     "execution_count": 41,
     "metadata": {},
     "output_type": "execute_result"
    }
   ],
   "source": [
    "date.getDate()"
   ]
  },
  {
   "cell_type": "code",
   "execution_count": 43,
   "metadata": {},
   "outputs": [
    {
     "data": {
      "text/plain": [
       "1"
      ]
     },
     "execution_count": 43,
     "metadata": {},
     "output_type": "execute_result"
    }
   ],
   "source": [
    "var date =new Date(2020,1,1);\n",
    "date.getDate()"
   ]
  },
  {
   "cell_type": "code",
   "execution_count": 44,
   "metadata": {},
   "outputs": [
    {
     "data": {
      "text/plain": [
       "31"
      ]
     },
     "execution_count": 44,
     "metadata": {},
     "output_type": "execute_result"
    }
   ],
   "source": [
    "var date = new Date();\n",
    "date.getDate()"
   ]
  },
  {
   "cell_type": "code",
   "execution_count": 45,
   "metadata": {},
   "outputs": [
    {
     "data": {
      "text/plain": [
       "1577760023152"
      ]
     },
     "execution_count": 45,
     "metadata": {},
     "output_type": "execute_result"
    }
   ],
   "source": [
    "date.setMonth('11')"
   ]
  },
  {
   "cell_type": "code",
   "execution_count": 46,
   "metadata": {},
   "outputs": [
    {
     "data": {
      "text/plain": [
       "31"
      ]
     },
     "execution_count": 46,
     "metadata": {},
     "output_type": "execute_result"
    }
   ],
   "source": [
    "date.getDate()"
   ]
  },
  {
   "cell_type": "code",
   "execution_count": null,
   "metadata": {},
   "outputs": [],
   "source": [
    "function daysInMonth (month, year) {\n",
    "    return new Date(year, month, 0).getDate();\n",
    "}\n",
    "\n",
    "// July\n",
    "daysInMonth(7,2009); // 31\n",
    "// February\n",
    "daysInMonth(2,2009); // 28\n",
    "daysInMonth(2,2008); // 29"
   ]
  },
  {
   "cell_type": "code",
   "execution_count": null,
   "metadata": {},
   "outputs": [],
   "source": []
  },
  {
   "cell_type": "code",
   "execution_count": 47,
   "metadata": {},
   "outputs": [
    {
     "data": {
      "text/plain": [
       "30"
      ]
     },
     "execution_count": 47,
     "metadata": {},
     "output_type": "execute_result"
    }
   ],
   "source": [
    "var date = new Date(2019,11, 0); // using 0 at date returns last date of last month\n",
    "date.getDate()"
   ]
  },
  {
   "cell_type": "code",
   "execution_count": 49,
   "metadata": {},
   "outputs": [
    {
     "data": {
      "text/plain": [
       "11"
      ]
     },
     "execution_count": 49,
     "metadata": {},
     "output_type": "execute_result"
    }
   ],
   "source": [
    "date.getMonth()+1"
   ]
  },
  {
   "cell_type": "code",
   "execution_count": null,
   "metadata": {},
   "outputs": [],
   "source": []
  },
  {
   "cell_type": "code",
   "execution_count": null,
   "metadata": {},
   "outputs": [],
   "source": []
  },
  {
   "cell_type": "code",
   "execution_count": null,
   "metadata": {},
   "outputs": [],
   "source": []
  },
  {
   "cell_type": "code",
   "execution_count": null,
   "metadata": {},
   "outputs": [],
   "source": []
  }
 ],
 "metadata": {
  "kernelspec": {
   "display_name": "Javascript (Node.js)",
   "language": "javascript",
   "name": "javascript"
  },
  "language_info": {
   "file_extension": ".js",
   "mimetype": "application/javascript",
   "name": "javascript",
   "version": "10.13.0"
  }
 },
 "nbformat": 4,
 "nbformat_minor": 2
}
