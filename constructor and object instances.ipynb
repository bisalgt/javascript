{
 "cells": [
  {
   "cell_type": "markdown",
   "metadata": {},
   "source": [
    "# JavaScript uses special functions called constructor functions to define and initialize objects and their features. They are useful because you'll often come across situations in which you don't know how many objects you will be creating; constructors provide the means to create as many objects as you need in an effective way, attaching data and functions to them as required."
   ]
  },
  {
   "cell_type": "raw",
   "metadata": {},
   "source": [
    "Let's start by looking at how you could define a person with a normal function. Add this function within the script element:\n",
    "function createNewPerson(name) {\n",
    "  const obj = {};\n",
    "  obj.name = name;\n",
    "  obj.greeting = function() {\n",
    "    alert('Hi! I\\'m ' + obj.name + '.');\n",
    "  };\n",
    "  return obj;\n",
    "}\n",
    "You can now create a new person by calling this function — try the following lines in your browser's JavaScript console:\n",
    "const salva = createNewPerson('Salva');\n",
    "salva.name;\n",
    "salva.greeting();\n",
    "This works well enough, but it is a bit long-winded; if we know we want to create an object, why do we need to explicitly create a new empty object and return it? Fortunately, JavaScript provides us with a handy shortcut, in the form of constructor functions — let's make one now!"
   ]
  },
  {
   "cell_type": "markdown",
   "metadata": {},
   "source": [
    "# constructor function"
   ]
  },
  {
   "cell_type": "code",
   "execution_count": 1,
   "metadata": {},
   "outputs": [
    {
     "data": {
      "text/plain": [
       "undefined"
      ]
     },
     "execution_count": 1,
     "metadata": {},
     "output_type": "execute_result"
    }
   ],
   "source": [
    "function Person(name) {\n",
    "  this.name = name;\n",
    "  this.greeting = function() {\n",
    "    alert('Hi! I\\'m ' + this.name + '.');\n",
    "  };\n",
    "}"
   ]
  },
  {
   "cell_type": "raw",
   "metadata": {},
   "source": [
    "The constructor function is JavaScript's version of a class. Notice that it has all the features you'd expect in a function, although it doesn't return anything or explicitly create an object — it basically just defines properties and methods. Notice also the this keyword being used here as well — it is basically saying that whenever one of these object instances is created, the object's name property will be equal to the name value passed to the constructor call, and the greeting() method will use the name value passed to the constructor call too.\n",
    "\n",
    "Note: A constructor function name usually starts with a capital letter — this convention is used to make constructor functions easier to recognize in code."
   ]
  },
  {
   "cell_type": "code",
   "execution_count": 3,
   "metadata": {},
   "outputs": [
    {
     "data": {
      "text/plain": [
       "undefined"
      ]
     },
     "execution_count": 3,
     "metadata": {},
     "output_type": "execute_result"
    }
   ],
   "source": [
    "let person1 = new Person('Bob');\n",
    "let person2 = new Person('Sara');"
   ]
  },
  {
   "cell_type": "code",
   "execution_count": 4,
   "metadata": {},
   "outputs": [
    {
     "data": {
      "text/plain": [
       "'Bob'"
      ]
     },
     "execution_count": 4,
     "metadata": {},
     "output_type": "execute_result"
    }
   ],
   "source": [
    "person1.name;"
   ]
  },
  {
   "cell_type": "code",
   "execution_count": 6,
   "metadata": {},
   "outputs": [
    {
     "data": {
      "text/plain": [
       "[Function]"
      ]
     },
     "execution_count": 6,
     "metadata": {},
     "output_type": "execute_result"
    }
   ],
   "source": [
    "person1.greeting;"
   ]
  },
  {
   "cell_type": "code",
   "execution_count": 7,
   "metadata": {
    "collapsed": true
   },
   "outputs": [
    {
     "ename": "ReferenceError",
     "evalue": "alert is not defined",
     "output_type": "error",
     "traceback": [
      "evalmachine.<anonymous>:4",
      "    alert('Hi! I\\'m ' + this.name + '.');",
      "    ^",
      "",
      "ReferenceError: alert is not defined",
      "    at Person.greeting (evalmachine.<anonymous>:4:5)",
      "    at evalmachine.<anonymous>:1:9",
      "    at Script.runInThisContext (vm.js:96:20)",
      "    at Object.runInThisContext (vm.js:303:38)",
      "    at run ([eval]:1054:15)",
      "    at onRunRequest ([eval]:888:18)",
      "    at onMessage ([eval]:848:13)",
      "    at process.emit (events.js:182:13)",
      "    at emit (internal/child_process.js:812:12)",
      "    at process._tickCallback (internal/process/next_tick.js:63:19)"
     ]
    }
   ],
   "source": [
    "person1.greeting();"
   ]
  },
  {
   "cell_type": "code",
   "execution_count": 8,
   "metadata": {},
   "outputs": [
    {
     "data": {
      "text/plain": [
       "'Sara'"
      ]
     },
     "execution_count": 8,
     "metadata": {},
     "output_type": "execute_result"
    }
   ],
   "source": [
    "person2.name"
   ]
  },
  {
   "cell_type": "code",
   "execution_count": 9,
   "metadata": {
    "collapsed": true
   },
   "outputs": [
    {
     "ename": "ReferenceError",
     "evalue": "alert is not defined",
     "output_type": "error",
     "traceback": [
      "evalmachine.<anonymous>:4",
      "    alert('Hi! I\\'m ' + this.name + '.');",
      "    ^",
      "",
      "ReferenceError: alert is not defined",
      "    at Person.greeting (evalmachine.<anonymous>:4:5)",
      "    at evalmachine.<anonymous>:1:9",
      "    at Script.runInThisContext (vm.js:96:20)",
      "    at Object.runInThisContext (vm.js:303:38)",
      "    at run ([eval]:1054:15)",
      "    at onRunRequest ([eval]:888:18)",
      "    at onMessage ([eval]:848:13)",
      "    at process.emit (events.js:182:13)",
      "    at emit (internal/child_process.js:812:12)",
      "    at process._tickCallback (internal/process/next_tick.js:63:19)"
     ]
    }
   ],
   "source": [
    "person2.greeting();"
   ]
  },
  {
   "cell_type": "markdown",
   "metadata": {},
   "source": [
    "## Constructor: A constructor is a function that initializes an object. ... Object constructor: In JavaScript, there is a special constructor function known as Object() is used to create and initialize an object. The return value of the Object() constructor is assigned to a variable"
   ]
  },
  {
   "cell_type": "markdown",
   "metadata": {},
   "source": [
    "# Object can be created in js using\n",
    "####    1) Object literal\n",
    "        eg: var obj1 = {\n",
    "            name: 'Bishal',\n",
    "            age: 24,\n",
    "            sth: 'sth'\n",
    "        };\n",
    "####    2) Using constructor function\n",
    "        eg: function Person(name){\n",
    "            this.name = name;\n",
    "            this.greeting = function(){\n",
    "                alert('Hey , I am '+ this.name)\n",
    "            };\n",
    "        }\n",
    "       \n",
    "####   3) Using Object() constructor\n",
    "        eg: let person1 = new Object();\n",
    "            --this will create new empty object person1. can set attributes usinng the namespace person1."
   ]
  },
  {
   "cell_type": "raw",
   "metadata": {},
   "source": [
    "First of all, you can use the Object() constructor to create a new object. Yes, even generic objects have a constructor, which generates an empty object.\n",
    "\n",
    "Try entering this into your browser's JavaScript console:\n",
    "let person1 = new Object();\n",
    "This stores an empty object in the person1 variable. You can then add properties and methods to this object using dot or bracket notation as desired; try these examples in your console:\n",
    "person1.name = 'Chris';\n",
    "person1['age'] = 38;\n",
    "person1.greeting = function() {\n",
    "  alert('Hi! I\\'m ' + this.name + '.');\n",
    "};\n",
    "You can also pass an object literal to the Object() constructor as a parameter, to prefill it with properties/methods. Try this in your JS console:\n",
    "let person1 = new Object({\n",
    "  name: 'Chris',\n",
    "  age: 38,\n",
    "  greeting: function() {\n",
    "    alert('Hi! I\\'m ' + this.name + '.');\n",
    "  }\n",
    "});"
   ]
  },
  {
   "cell_type": "code",
   "execution_count": null,
   "metadata": {},
   "outputs": [],
   "source": []
  },
  {
   "cell_type": "code",
   "execution_count": 10,
   "metadata": {},
   "outputs": [
    {
     "data": {
      "text/plain": [
       "undefined"
      ]
     },
     "execution_count": 10,
     "metadata": {},
     "output_type": "execute_result"
    }
   ],
   "source": [
    "let person11 = new Object({name: 'Bishal', age: 24, salary: 20000});\n"
   ]
  },
  {
   "cell_type": "code",
   "execution_count": 11,
   "metadata": {},
   "outputs": [
    {
     "data": {
      "text/plain": [
       "{ name: 'Bishal', age: 24, salary: 20000 }"
      ]
     },
     "execution_count": 11,
     "metadata": {},
     "output_type": "execute_result"
    }
   ],
   "source": [
    "person11"
   ]
  },
  {
   "cell_type": "markdown",
   "metadata": {},
   "source": [
    "# Using the create() method\n",
    "    Constructors can help you give your code order—you can create constructors in one place, then create instances as needed, and it is clear where they came from.\n",
    "\n",
    "    However, some people prefer to create object instances without first creating constructors, especially if they are creating only a few instances of an object. JavaScript has a built-in method called create() that allows you to do that. With it, you can create a new object based on any existing object.\n",
    "\n",
    "    With your finished exercise from the previous sections loaded in the browser, try this in your JavaScript console:\n",
    "    let person2 = Object.create(person1);\n",
    "    Now try these:\n",
    "    person2.name;\n",
    "    person2.greeting();\n",
    "    You'll see that person2 has been created based on person1—it has the same properties and method available to it.\n",
    "\n",
    "    One limitation of create() is that IE8 does not support it. So constructors may be more effective if you want to support older browsers.\n",
    "\n",
    "    We'll explore the effects of create() in more detail later on."
   ]
  },
  {
   "cell_type": "code",
   "execution_count": 13,
   "metadata": {},
   "outputs": [
    {
     "data": {
      "text/plain": [
       "{ name: 'Bishal', age: 24, salary: 20000 }"
      ]
     },
     "execution_count": 13,
     "metadata": {},
     "output_type": "execute_result"
    }
   ],
   "source": [
    "person11"
   ]
  },
  {
   "cell_type": "code",
   "execution_count": 14,
   "metadata": {},
   "outputs": [
    {
     "data": {
      "text/plain": [
       "undefined"
      ]
     },
     "execution_count": 14,
     "metadata": {},
     "output_type": "execute_result"
    }
   ],
   "source": [
    "let person22 = Object.create(person11)"
   ]
  },
  {
   "cell_type": "code",
   "execution_count": 15,
   "metadata": {},
   "outputs": [
    {
     "data": {
      "text/plain": [
       "{}"
      ]
     },
     "execution_count": 15,
     "metadata": {},
     "output_type": "execute_result"
    }
   ],
   "source": [
    "person22"
   ]
  },
  {
   "cell_type": "code",
   "execution_count": 16,
   "metadata": {},
   "outputs": [
    {
     "data": {
      "text/plain": [
       "'object'"
      ]
     },
     "execution_count": 16,
     "metadata": {},
     "output_type": "execute_result"
    }
   ],
   "source": [
    "typeof person22"
   ]
  },
  {
   "cell_type": "code",
   "execution_count": 17,
   "metadata": {},
   "outputs": [
    {
     "name": "stdout",
     "output_type": "stream",
     "text": [
      "Bishal\n"
     ]
    },
    {
     "data": {
      "text/plain": [
       "undefined"
      ]
     },
     "execution_count": 17,
     "metadata": {},
     "output_type": "execute_result"
    }
   ],
   "source": [
    "console.log(person22.name)"
   ]
  },
  {
   "cell_type": "code",
   "execution_count": 18,
   "metadata": {},
   "outputs": [
    {
     "data": {
      "text/plain": [
       "24"
      ]
     },
     "execution_count": 18,
     "metadata": {},
     "output_type": "execute_result"
    }
   ],
   "source": [
    "person22.age"
   ]
  },
  {
   "cell_type": "code",
   "execution_count": 19,
   "metadata": {},
   "outputs": [
    {
     "data": {
      "text/plain": [
       "20000"
      ]
     },
     "execution_count": 19,
     "metadata": {},
     "output_type": "execute_result"
    }
   ],
   "source": [
    "person22.salary"
   ]
  },
  {
   "cell_type": "code",
   "execution_count": 20,
   "metadata": {},
   "outputs": [
    {
     "name": "stdout",
     "output_type": "stream",
     "text": [
      "My name is Matthew. Am I human? true\n"
     ]
    },
    {
     "data": {
      "text/plain": [
       "undefined"
      ]
     },
     "execution_count": 20,
     "metadata": {},
     "output_type": "execute_result"
    }
   ],
   "source": [
    "const person = {\n",
    "  isHuman: false,\n",
    "  printIntroduction: function () {\n",
    "    console.log(`My name is ${this.name}. Am I human? ${this.isHuman}`);\n",
    "  }\n",
    "};\n",
    "\n",
    "const me = Object.create(person);\n",
    "\n",
    "me.name = \"Matthew\"; // \"name\" is a property set on \"me\", but not on \"person\"\n",
    "me.isHuman = true; // inherited properties can be overwritten\n",
    "\n",
    "me.printIntroduction();"
   ]
  },
  {
   "cell_type": "code",
   "execution_count": 21,
   "metadata": {},
   "outputs": [
    {
     "data": {
      "text/plain": [
       "{ name: 'Bishal', age: 24, salary: 20000 }"
      ]
     },
     "execution_count": 21,
     "metadata": {},
     "output_type": "execute_result"
    }
   ],
   "source": [
    "person11"
   ]
  },
  {
   "cell_type": "code",
   "execution_count": 22,
   "metadata": {},
   "outputs": [
    {
     "data": {
      "text/plain": [
       "[Function]"
      ]
     },
     "execution_count": 22,
     "metadata": {},
     "output_type": "execute_result"
    }
   ],
   "source": [
    "person11.bio = function(){\n",
    "    console.log(`My name is ${this.name} and I am ${this.age}. I earn ${this.salary} per hour.`);\n",
    "}"
   ]
  },
  {
   "cell_type": "code",
   "execution_count": 23,
   "metadata": {},
   "outputs": [
    {
     "data": {
      "text/plain": [
       "{ name: 'Bishal', age: 24, salary: 20000, bio: [Function] }"
      ]
     },
     "execution_count": 23,
     "metadata": {},
     "output_type": "execute_result"
    }
   ],
   "source": [
    "person11"
   ]
  },
  {
   "cell_type": "code",
   "execution_count": 24,
   "metadata": {},
   "outputs": [
    {
     "name": "stdout",
     "output_type": "stream",
     "text": [
      "My name is Bishal and I am 24. I earn 20000 per hour.\n"
     ]
    },
    {
     "data": {
      "text/plain": [
       "undefined"
      ]
     },
     "execution_count": 24,
     "metadata": {},
     "output_type": "execute_result"
    }
   ],
   "source": [
    "person11.bio();"
   ]
  },
  {
   "cell_type": "code",
   "execution_count": 27,
   "metadata": {},
   "outputs": [
    {
     "data": {
      "text/plain": [
       "undefined"
      ]
     },
     "execution_count": 27,
     "metadata": {},
     "output_type": "execute_result"
    }
   ],
   "source": [
    "var person33 = Object.create(person11, id=12);"
   ]
  },
  {
   "cell_type": "code",
   "execution_count": 28,
   "metadata": {},
   "outputs": [
    {
     "ename": "TypeError",
     "evalue": "person33.getAllAttributes is not a function",
     "output_type": "error",
     "traceback": [
      "evalmachine.<anonymous>:1",
      "person33.getAllAttributes();",
      "         ^",
      "",
      "TypeError: person33.getAllAttributes is not a function",
      "    at evalmachine.<anonymous>:1:10",
      "    at Script.runInThisContext (vm.js:96:20)",
      "    at Object.runInThisContext (vm.js:303:38)",
      "    at run ([eval]:1054:15)",
      "    at onRunRequest ([eval]:888:18)",
      "    at onMessage ([eval]:848:13)",
      "    at process.emit (events.js:182:13)",
      "    at emit (internal/child_process.js:812:12)",
      "    at process._tickCallback (internal/process/next_tick.js:63:19)"
     ]
    }
   ],
   "source": [
    "person33.getAllAttributes();"
   ]
  },
  {
   "cell_type": "code",
   "execution_count": 29,
   "metadata": {},
   "outputs": [
    {
     "data": {
      "text/plain": [
       "undefined"
      ]
     },
     "execution_count": 29,
     "metadata": {},
     "output_type": "execute_result"
    }
   ],
   "source": [
    "person33.getAllAttributes;"
   ]
  },
  {
   "cell_type": "code",
   "execution_count": 30,
   "metadata": {},
   "outputs": [
    {
     "data": {
      "text/plain": [
       "{}"
      ]
     },
     "execution_count": 30,
     "metadata": {},
     "output_type": "execute_result"
    }
   ],
   "source": [
    "person33"
   ]
  },
  {
   "cell_type": "code",
   "execution_count": 31,
   "metadata": {},
   "outputs": [
    {
     "data": {
      "text/plain": [
       "'Bishal'"
      ]
     },
     "execution_count": 31,
     "metadata": {},
     "output_type": "execute_result"
    }
   ],
   "source": [
    "person33.name"
   ]
  },
  {
   "cell_type": "code",
   "execution_count": 32,
   "metadata": {},
   "outputs": [
    {
     "data": {
      "text/plain": [
       "undefined"
      ]
     },
     "execution_count": 32,
     "metadata": {},
     "output_type": "execute_result"
    }
   ],
   "source": [
    "person33.id"
   ]
  },
  {
   "cell_type": "code",
   "execution_count": 37,
   "metadata": {},
   "outputs": [
    {
     "ename": "TypeError",
     "evalue": "Property description must be an object: 13",
     "output_type": "error",
     "traceback": [
      "evalmachine.<anonymous>:1",
      "var person44 = Object.create(person11, {",
      "                      ^",
      "",
      "TypeError: Property description must be an object: 13",
      "    at Function.create (<anonymous>)",
      "    at evalmachine.<anonymous>:1:23",
      "    at Script.runInThisContext (vm.js:96:20)",
      "    at Object.runInThisContext (vm.js:303:38)",
      "    at run ([eval]:1054:15)",
      "    at onRunRequest ([eval]:888:18)",
      "    at onMessage ([eval]:848:13)",
      "    at process.emit (events.js:182:13)",
      "    at emit (internal/child_process.js:812:12)",
      "    at process._tickCallback (internal/process/next_tick.js:63:19)"
     ]
    }
   ],
   "source": [
    "var person44 = Object.create(person11, {\n",
    "    id: 13,\n",
    "    greetings: function(){\n",
    "        console.log(`Hello my name is ${this.name} and i am ${this.age}. My id is ${this.id}.`);\n",
    "    }\n",
    "})"
   ]
  },
  {
   "cell_type": "code",
   "execution_count": 39,
   "metadata": {},
   "outputs": [
    {
     "ename": "TypeError",
     "evalue": "Property description must be an object: 13",
     "output_type": "error",
     "traceback": [
      "evalmachine.<anonymous>:1",
      "var person44 = Object.create(person11, {id: 13});",
      "                      ^",
      "",
      "TypeError: Property description must be an object: 13",
      "    at Function.create (<anonymous>)",
      "    at evalmachine.<anonymous>:1:23",
      "    at Script.runInThisContext (vm.js:96:20)",
      "    at Object.runInThisContext (vm.js:303:38)",
      "    at run ([eval]:1054:15)",
      "    at onRunRequest ([eval]:888:18)",
      "    at onMessage ([eval]:848:13)",
      "    at process.emit (events.js:182:13)",
      "    at emit (internal/child_process.js:812:12)",
      "    at process._tickCallback (internal/process/next_tick.js:63:19)"
     ]
    }
   ],
   "source": [
    "var person44 = Object.create(person11, {id: 13});"
   ]
  },
  {
   "cell_type": "code",
   "execution_count": 40,
   "metadata": {},
   "outputs": [
    {
     "data": {
      "text/plain": [
       "{ name: 'Bishal', age: 24, salary: 20000, bio: [Function] }"
      ]
     },
     "execution_count": 40,
     "metadata": {},
     "output_type": "execute_result"
    }
   ],
   "source": [
    "person11"
   ]
  },
  {
   "cell_type": "code",
   "execution_count": 41,
   "metadata": {},
   "outputs": [
    {
     "ename": "TypeError",
     "evalue": "Property description must be an object: 123",
     "output_type": "error",
     "traceback": [
      "evalmachine.<anonymous>:1",
      "var p1 = Object.create(person11, {id: 123})",
      "                ^",
      "",
      "TypeError: Property description must be an object: 123",
      "    at Function.create (<anonymous>)",
      "    at evalmachine.<anonymous>:1:17",
      "    at Script.runInThisContext (vm.js:96:20)",
      "    at Object.runInThisContext (vm.js:303:38)",
      "    at run ([eval]:1054:15)",
      "    at onRunRequest ([eval]:888:18)",
      "    at onMessage ([eval]:848:13)",
      "    at process.emit (events.js:182:13)",
      "    at emit (internal/child_process.js:812:12)",
      "    at process._tickCallback (internal/process/next_tick.js:63:19)"
     ]
    }
   ],
   "source": [
    "var p1 = Object.create(person11, {id: 123})"
   ]
  },
  {
   "cell_type": "code",
   "execution_count": 42,
   "metadata": {},
   "outputs": [
    {
     "ename": "TypeError",
     "evalue": "Cannot convert undefined or null to object",
     "output_type": "error",
     "traceback": [
      "evalmachine.<anonymous>:1",
      "var p1 = Object.create(person11, Object.defineProperties({id: 123}))",
      "                                        ^",
      "",
      "TypeError: Cannot convert undefined or null to object",
      "    at Function.defineProperties (<anonymous>)",
      "    at evalmachine.<anonymous>:1:41",
      "    at Script.runInThisContext (vm.js:96:20)",
      "    at Object.runInThisContext (vm.js:303:38)",
      "    at run ([eval]:1054:15)",
      "    at onRunRequest ([eval]:888:18)",
      "    at onMessage ([eval]:848:13)",
      "    at process.emit (events.js:182:13)",
      "    at emit (internal/child_process.js:812:12)",
      "    at process._tickCallback (internal/process/next_tick.js:63:19)"
     ]
    }
   ],
   "source": [
    "var p1 = Object.create(person11, Object.defineProperties({id: 123}))"
   ]
  },
  {
   "cell_type": "code",
   "execution_count": 43,
   "metadata": {},
   "outputs": [
    {
     "name": "stdout",
     "output_type": "stream",
     "text": [
      "Is rect an instance of Rectangle? true\n",
      "Is rect an instance of Shape? true\n",
      "Shape moved.\n"
     ]
    },
    {
     "data": {
      "text/plain": [
       "undefined"
      ]
     },
     "execution_count": 43,
     "metadata": {},
     "output_type": "execute_result"
    }
   ],
   "source": [
    "function Shape() {\n",
    "  this.x = 0;\n",
    "  this.y = 0;\n",
    "}\n",
    "\n",
    "// superclass method\n",
    "Shape.prototype.move = function(x, y) {\n",
    "  this.x += x;\n",
    "  this.y += y;\n",
    "  console.info('Shape moved.');\n",
    "};\n",
    "\n",
    "// Rectangle - subclass\n",
    "function Rectangle() {\n",
    "  Shape.call(this); // call super constructor.\n",
    "}\n",
    "\n",
    "// subclass extends superclass\n",
    "Rectangle.prototype = Object.create(Shape.prototype);\n",
    "\n",
    "//If you don't set Object.prototype.constructor to Rectangle,\n",
    "//it will take prototype.constructor of Shape (parent).\n",
    "//To avoid that, we set the prototype.constructor to Rectangle (child).\n",
    "Rectangle.prototype.constructor = Rectangle;\n",
    "\n",
    "var rect = new Rectangle();\n",
    "\n",
    "console.log('Is rect an instance of Rectangle?', rect instanceof Rectangle); // true\n",
    "console.log('Is rect an instance of Shape?', rect instanceof Shape); // true\n",
    "rect.move(1, 1); // Outputs, 'Shape moved.'"
   ]
  },
  {
   "cell_type": "code",
   "execution_count": 44,
   "metadata": {},
   "outputs": [
    {
     "data": {
      "text/plain": [
       "undefined"
      ]
     },
     "execution_count": 44,
     "metadata": {},
     "output_type": "execute_result"
    }
   ],
   "source": [
    "function ConstructorPeople(name, age) {\n",
    "    this.name = name;\n",
    "    this.age = age;\n",
    "}\n",
    "\n",
    "var p1 = new ConstructorPeople('Bishal', 24);"
   ]
  },
  {
   "cell_type": "code",
   "execution_count": 45,
   "metadata": {},
   "outputs": [
    {
     "data": {
      "text/plain": [
       "ConstructorPeople { name: 'Bishal', age: 24 }"
      ]
     },
     "execution_count": 45,
     "metadata": {},
     "output_type": "execute_result"
    }
   ],
   "source": [
    "p1"
   ]
  },
  {
   "cell_type": "code",
   "execution_count": 46,
   "metadata": {},
   "outputs": [
    {
     "data": {
      "text/plain": [
       "'Bishal'"
      ]
     },
     "execution_count": 46,
     "metadata": {},
     "output_type": "execute_result"
    }
   ],
   "source": [
    "p1.name"
   ]
  },
  {
   "cell_type": "code",
   "execution_count": 47,
   "metadata": {},
   "outputs": [
    {
     "data": {
      "text/plain": [
       "500000"
      ]
     },
     "execution_count": 47,
     "metadata": {},
     "output_type": "execute_result"
    }
   ],
   "source": [
    "ConstructorPeople.prototype.salary = 500000;"
   ]
  },
  {
   "cell_type": "code",
   "execution_count": 48,
   "metadata": {},
   "outputs": [
    {
     "data": {
      "text/plain": [
       "ConstructorPeople { name: 'Bishal', age: 24 }"
      ]
     },
     "execution_count": 48,
     "metadata": {},
     "output_type": "execute_result"
    }
   ],
   "source": [
    "p1"
   ]
  },
  {
   "cell_type": "code",
   "execution_count": 49,
   "metadata": {},
   "outputs": [
    {
     "data": {
      "text/plain": [
       "500000"
      ]
     },
     "execution_count": 49,
     "metadata": {},
     "output_type": "execute_result"
    }
   ],
   "source": [
    "p1.salary"
   ]
  },
  {
   "cell_type": "code",
   "execution_count": 50,
   "metadata": {},
   "outputs": [
    {
     "data": {
      "text/plain": [
       "undefined"
      ]
     },
     "execution_count": 50,
     "metadata": {},
     "output_type": "execute_result"
    }
   ],
   "source": [
    "var p2 = new ConstructorPeople('Hemant', 25)"
   ]
  },
  {
   "cell_type": "code",
   "execution_count": 51,
   "metadata": {},
   "outputs": [
    {
     "data": {
      "text/plain": [
       "ConstructorPeople { name: 'Hemant', age: 25 }"
      ]
     },
     "execution_count": 51,
     "metadata": {},
     "output_type": "execute_result"
    }
   ],
   "source": [
    "p2"
   ]
  },
  {
   "cell_type": "code",
   "execution_count": null,
   "metadata": {},
   "outputs": [],
   "source": []
  },
  {
   "cell_type": "code",
   "execution_count": null,
   "metadata": {},
   "outputs": [],
   "source": []
  },
  {
   "cell_type": "code",
   "execution_count": null,
   "metadata": {},
   "outputs": [],
   "source": []
  },
  {
   "cell_type": "code",
   "execution_count": null,
   "metadata": {},
   "outputs": [],
   "source": []
  },
  {
   "cell_type": "code",
   "execution_count": null,
   "metadata": {},
   "outputs": [],
   "source": []
  },
  {
   "cell_type": "code",
   "execution_count": null,
   "metadata": {},
   "outputs": [],
   "source": []
  },
  {
   "cell_type": "code",
   "execution_count": null,
   "metadata": {},
   "outputs": [],
   "source": []
  }
 ],
 "metadata": {
  "kernelspec": {
   "display_name": "Javascript (Node.js)",
   "language": "javascript",
   "name": "javascript"
  },
  "language_info": {
   "file_extension": ".js",
   "mimetype": "application/javascript",
   "name": "javascript",
   "version": "10.13.0"
  }
 },
 "nbformat": 4,
 "nbformat_minor": 2
}
