{
 "cells": [
  {
   "cell_type": "raw",
   "metadata": {},
   "source": [
    "events are actions or occurrences that happen in the system you are programming — the system produces (or \"fires\") a signal of some kind when an event occurs, and also provides a mechanism by which some kind of action can be automatically taken (that is, some code running) when the event occurs."
   ]
  },
  {
   "cell_type": "raw",
   "metadata": {},
   "source": [
    "In the case of the Web, events are fired inside the browser window, and tend to be attached to a specific item that resides in it — this might be a single element, set of elements,"
   ]
  },
  {
   "cell_type": "raw",
   "metadata": {},
   "source": [
    "In the case of the Web, events are fired inside the browser window, and tend to be attached to a specific item that resides in it — this might be a single element, set of elements, the HTML document loaded in the current tab, or the entire browser window. There are a lot of different types of events that can occur, for example:\n",
    "\n",
    "    The user clicking the mouse over a certain element or hovering the cursor over a certain element.\n",
    "    The user pressing a key on the keyboard.\n",
    "    The user resizing or closing the browser window.\n",
    "    A web page finishing loading.\n",
    "    A form being submitted.\n",
    "    A video being played, or paused, or finishing play.\n",
    "    An error occurring.\n"
   ]
  },
  {
   "cell_type": "markdown",
   "metadata": {},
   "source": [
    "## Note: Web events are not part of the core JavaScript language — they are defined as part of the APIs built into the browser."
   ]
  },
  {
   "cell_type": "raw",
   "metadata": {},
   "source": [
    "For example, Node.js is a very popular JavaScript runtime that enables developers to use JavaScript to build network and server-side applications. The Node.js event model relies on listeners to listen for events and emitters to emit events periodically — it doesn't sound that different, but the code is quite different, making use of functions like on() to register an event listener, and once() to register an event listener that unregisters after it has run once."
   ]
  },
  {
   "cell_type": "raw",
   "metadata": {},
   "source": [
    "Event handler properties\n",
    "These are the properties that exist to contain event handler code that we have seen most frequently during the course. Returning to the above example:\n",
    "\n",
    "const btn = document.querySelector('button');\n",
    "\n",
    "btn.onclick = function() {\n",
    "  const rndCol = 'rgb(' + random(255) + ',' + random(255) + ',' + random(255) + ')';\n",
    "  document.body.style.backgroundColor = rndCol;\n",
    "}\n",
    "The onclick property is the event handler property being used in this situation. It is essentially a property like any other available on the button (e.g. btn.textContent, or btn.style), but it is a special type — when you set it to be equal to some code, that code is run when the event fires on the button."
   ]
  },
  {
   "cell_type": "raw",
   "metadata": {},
   "source": [
    "You could also set the handler property to be equal to a named function name"
   ]
  },
  {
   "cell_type": "markdown",
   "metadata": {},
   "source": [
    "# onclick event can be used for any event;"
   ]
  },
  {
   "cell_type": "markdown",
   "metadata": {},
   "source": [
    "# Inline event handlers — don't use these\n",
    "You might also see a pattern like this in your code:\n",
    "\n",
    "<button onclick=\"bgChange()\">Press me</button>"
   ]
  },
  {
   "cell_type": "markdown",
   "metadata": {},
   "source": [
    "# <button id='btn'>Press me</button>\n",
    "# <script>\n",
    "    var btn = document.queryselector('#btn');\n",
    "    btn.onclick = () => {\n",
    "        var i=1;\n",
    "        console.log('button clicked '+i);\n",
    "        i++;\n",
    "    }\n",
    "    console.log('hey')\n",
    "   </script>"
   ]
  },
  {
   "cell_type": "code",
   "execution_count": 9,
   "metadata": {},
   "outputs": [
    {
     "name": "stdout",
     "output_type": "stream",
     "text": [
      "1\n",
      "0\n",
      "[ 1, 2, 3, 4, 54, 6, 7, 8 ]\n",
      "undefined\n",
      "------------\n",
      "2\n",
      "1\n",
      "[ 1, 2, 3, 4, 54, 6, 7, 8 ]\n",
      "undefined\n",
      "------------\n",
      "3\n",
      "2\n",
      "[ 1, 2, 3, 4, 54, 6, 7, 8 ]\n",
      "undefined\n",
      "------------\n",
      "4\n",
      "3\n",
      "[ 1, 2, 3, 4, 54, 6, 7, 8 ]\n",
      "undefined\n",
      "------------\n",
      "54\n",
      "4\n",
      "[ 1, 2, 3, 4, 54, 6, 7, 8 ]\n",
      "undefined\n",
      "------------\n",
      "6\n",
      "5\n",
      "[ 1, 2, 3, 4, 54, 6, 7, 8 ]\n",
      "undefined\n",
      "------------\n",
      "7\n",
      "6\n",
      "[ 1, 2, 3, 4, 54, 6, 7, 8 ]\n",
      "undefined\n",
      "------------\n",
      "8\n",
      "7\n",
      "[ 1, 2, 3, 4, 54, 6, 7, 8 ]\n",
      "undefined\n",
      "------------\n"
     ]
    },
    {
     "data": {
      "text/plain": [
       "undefined"
      ]
     },
     "execution_count": 9,
     "metadata": {},
     "output_type": "execute_result"
    }
   ],
   "source": [
    "function testFunc(i, j, k, l){\n",
    "    console.log(i);\n",
    "    console.log(j);\n",
    "    console.log(k);\n",
    "    console.log(l);\n",
    "    console.log('------------');\n",
    "}\n",
    "\n",
    "var a = [1,2,3,4,54, 6, 7, 8];\n",
    "a.forEach(testFunc);"
   ]
  },
  {
   "cell_type": "markdown",
   "metadata": {},
   "source": [
    "# <button id='btnOne'>Click here! </button>\n"
   ]
  },
  {
   "cell_type": "code",
   "execution_count": 10,
   "metadata": {},
   "outputs": [
    {
     "data": {
      "text/plain": [
       "undefined"
      ]
     },
     "execution_count": 10,
     "metadata": {},
     "output_type": "execute_result"
    }
   ],
   "source": [
    "function check(e){\n",
    "    console.log(e);\n",
    "}"
   ]
  },
  {
   "cell_type": "code",
   "execution_count": 11,
   "metadata": {},
   "outputs": [
    {
     "ename": "ReferenceError",
     "evalue": "document is not defined",
     "output_type": "error",
     "traceback": [
      "evalmachine.<anonymous>:1",
      "var btnRef = document.querySelector('btnOne');",
      "             ^",
      "",
      "ReferenceError: document is not defined",
      "    at evalmachine.<anonymous>:1:14",
      "    at Script.runInThisContext (vm.js:96:20)",
      "    at Object.runInThisContext (vm.js:303:38)",
      "    at run ([eval]:1054:15)",
      "    at onRunRequest ([eval]:888:18)",
      "    at onMessage ([eval]:848:13)",
      "    at process.emit (events.js:182:13)",
      "    at emit (internal/child_process.js:812:12)",
      "    at process._tickCallback (internal/process/next_tick.js:63:19)"
     ]
    }
   ],
   "source": [
    "var btnRef = document.querySelector('btnOne');\n",
    "btn.onclick = check();"
   ]
  },
  {
   "cell_type": "raw",
   "metadata": {},
   "source": [
    "Sometimes inside an event handler function, you might see a parameter specified with a name such as event, evt, or simply e. This is called the event object, and it is automatically passed to event handlers to provide extra features and information. For example, let's rewrite our random color example again slightly:\n",
    "\n",
    "function bgChange(e) {\n",
    "  const rndCol = 'rgb(' + random(255) + ',' + random(255) + ',' + random(255) + ')';\n",
    "  e.target.style.backgroundColor = rndCol;\n",
    "  console.log(e);\n",
    "}  \n",
    "\n",
    "btn.addEventListener('click', bgChange);"
   ]
  },
  {
   "cell_type": "code",
   "execution_count": null,
   "metadata": {},
   "outputs": [],
   "source": [
    "const form = document.querySelector('form');\n",
    "const fname = document.getElementById('fname');\n",
    "const lname = document.getElementById('lname');\n",
    "const para = document.querySelector('p');\n",
    "\n",
    "form.onsubmit = function(e) {\n",
    "  if (fname.value === '' || lname.value === '') {\n",
    "    e.preventDefault();\n",
    "    para.textContent = 'You need to fill in both names!';\n",
    "  }\n",
    "}"
   ]
  },
  {
   "cell_type": "code",
   "execution_count": null,
   "metadata": {},
   "outputs": [],
   "source": []
  },
  {
   "cell_type": "code",
   "execution_count": null,
   "metadata": {},
   "outputs": [],
   "source": []
  },
  {
   "cell_type": "code",
   "execution_count": null,
   "metadata": {},
   "outputs": [],
   "source": []
  },
  {
   "cell_type": "code",
   "execution_count": null,
   "metadata": {},
   "outputs": [],
   "source": []
  },
  {
   "cell_type": "code",
   "execution_count": null,
   "metadata": {},
   "outputs": [],
   "source": []
  }
 ],
 "metadata": {
  "kernelspec": {
   "display_name": "Javascript (Node.js)",
   "language": "javascript",
   "name": "javascript"
  },
  "language_info": {
   "file_extension": ".js",
   "mimetype": "application/javascript",
   "name": "javascript",
   "version": "10.13.0"
  }
 },
 "nbformat": 4,
 "nbformat_minor": 2
}
